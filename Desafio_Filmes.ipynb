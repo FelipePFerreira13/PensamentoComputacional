{
  "cells": [
    {
      "cell_type": "code",
      "source": [
        "def calc_med(l_film):\n",
        "  x=len(l_film)\n",
        "  soma = 0\n",
        "  for i in l_film:\n",
        "    soma += i['Nota']\n",
        "  return soma/x\n",
        "\n",
        "def duplic(film, l_film):\n",
        "  for i in range(len(l_filmes)):\n",
        "    if film == l_filmes[i].get('Nome'):\n",
        "      return i\n",
        "  return -1\n"
      ],
      "metadata": {
        "id": "LFzoawtvvOCb"
      },
      "execution_count": null,
      "outputs": []
    },
    {
      "cell_type": "code",
      "execution_count": null,
      "metadata": {
        "colab": {
          "base_uri": "https://localhost:8080/"
        },
        "id": "ud7TkxFI__vF",
        "outputId": "1b6e4e77-21cd-49d1-f669-821ce3c4e6fe"
      },
      "outputs": [
        {
          "output_type": "stream",
          "name": "stdout",
          "text": [
            "Insira um filme ou 's' para sair: t\n",
            "Insira uma nota para o filme: 4\n",
            "Insira um filme ou 's' para sair: t\n",
            "Filme duplicado.\n",
            "Digite 'edita' para editar o item.\n",
            "Digite 'deleta' para deletar o item.\n",
            "Ou digite qualquer outro valor para ignorar entrada                       edita\n",
            "Filme: t\n",
            "Nota: 4.0\n",
            "Insita o novo nome do filme, deixe vazio para manter igual: \n",
            "Insita a nova nota do filme, deixe vazio para manter igual: 6\n",
            "Nota alterada\n",
            "Insira um filme ou 's' para sair: s\n",
            "A media de todos os filmes inseridos é 6.0\n"
          ]
        }
      ],
      "source": [
        "l_aux = []\n",
        "l_filmes = []\n",
        "i = 0\n",
        "while i < 1000:\n",
        "  f = input(\"Insira um filme ou 's' para sair: \")\n",
        "  if f == 's':\n",
        "    break\n",
        "  d = duplic(f, l_filmes)\n",
        "  if d != -1:\n",
        "    nm = l_filmes[d].get('Nome')\n",
        "    nt = l_filmes[d].get('Nota')\n",
        "\n",
        "    y = input(\"Filme duplicado.\\nDigite 'edita' para editar o item.\\nDigite 'deleta' para deletar o item.\\nOu digite qualquer outro valor para ignorar entrada                       \")\n",
        "    if y == 'edita':\n",
        "      print(f'Filme: {nm}\\nNota: {nt}')\n",
        "      nm2 = input(\"Insita o novo nome do filme, deixe vazio para manter igual: \")\n",
        "      while True:\n",
        "        nt2 = input(\"Insita a nova nota do filme, deixe vazio para manter igual: \")\n",
        "        if nt2.isnumeric() or nt2 == '':\n",
        "          if nt2 == '':\n",
        "            break\n",
        "          else:\n",
        "            nt2 = round(float(nt2),2)\n",
        "            if nt2 >= 0 and nt2 <= 10:\n",
        "              print(\"Nota alterada\")\n",
        "              break\n",
        "            else:\n",
        "              print(\"Insira uma nota de 0 a 10!\")\n",
        "              continue\n",
        "        else:\n",
        "          print(\"Insira uma nota de 0 a 10!\")\n",
        "          continue\n",
        "      if nt2 == '' and nm2 != '':\n",
        "        l_filmes[d] = {'Nome' : nm2,\n",
        "                      'Nota':l_filmes[d].get('Nota')}\n",
        "      elif nm2 == '' and nt2 != '':\n",
        "        l_filmes[d] = {'Nome' : l_filmes[d].get('Nome'),\n",
        "                      'Nota':nt2}\n",
        "      elif nm2 != '' and nt2 != '':\n",
        "        l_filmes[d] = {'Nome' : nm2,\n",
        "                      'Nota':nt2}\n",
        "      else:\n",
        "        print(\"Nenhum valor novo adicionado\")\n",
        "\n",
        "    elif y == 'deleta':\n",
        "        l_filmes.pop(d)\n",
        "  else:\n",
        "    while True:\n",
        "        n = input(\"Insira uma nota para o filme: \")\n",
        "        if n.isnumeric():\n",
        "          n = round(float(n),2)\n",
        "          if n > 10 or n < 0:\n",
        "            print(\"Nota invalida\")\n",
        "          else:\n",
        "            filme = {'Nome':f,\n",
        "                    'Nota':n}\n",
        "            l_filmes.append(filme)\n",
        "            l_aux.append(f)\n",
        "            i+=1\n",
        "            break\n",
        "        else:\n",
        "          print(\"Nota invalida\")\n",
        "\n",
        "else:\n",
        "  print(\"Voce adicionou 1000 filmes ao catalogo, limite exedido\")\n",
        "\n",
        "if len(l_filmes) > 0:\n",
        "  print(f'A media de todos os filmes inseridos é {calc_med(l_filmes)}')\n",
        "else:\n",
        "  print(\"Não foram salvos filmes\")"
      ]
    },
    {
      "cell_type": "code",
      "source": [],
      "metadata": {
        "id": "sU9StavX4RYM"
      },
      "execution_count": null,
      "outputs": []
    }
  ],
  "metadata": {
    "colab": {
      "provenance": [],
      "authorship_tag": "ABX9TyMsbHzEWEbSDB4b9n1HY5yW"
    },
    "kernelspec": {
      "display_name": "Python 3",
      "name": "python3"
    },
    "language_info": {
      "name": "python"
    }
  },
  "nbformat": 4,
  "nbformat_minor": 0
}