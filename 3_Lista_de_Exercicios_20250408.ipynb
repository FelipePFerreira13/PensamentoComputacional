{
  "nbformat": 4,
  "nbformat_minor": 0,
  "metadata": {
    "colab": {
      "provenance": [],
      "authorship_tag": "ABX9TyMRXpzrRjbFAUZBGN3R5MU9"
    },
    "kernelspec": {
      "name": "python3",
      "display_name": "Python 3"
    },
    "language_info": {
      "name": "python"
    }
  },
  "cells": [
    {
      "cell_type": "code",
      "source": [
        "import pprint\n",
        "\n",
        "def p(v):\n",
        "  pprint.pprint(v)"
      ],
      "metadata": {
        "id": "RyeY7C4RnG-i"
      },
      "execution_count": null,
      "outputs": []
    },
    {
      "cell_type": "markdown",
      "source": [
        "1. Faça o teste de mesa no algoritmo a seguir:\n",
        "\n",
        "ALGORITMO TABUADA_9;\n",
        "\n",
        "VAR\n",
        "\n",
        "  N, X, R : INTEIRO;\n",
        "\n",
        "INICIO\n",
        "\n",
        "  PARA X DE 1 ATE 10 FACA\n",
        "\n",
        "  INICIO\n",
        "\n",
        "    R ← 9 * X;\n",
        "\n",
        "    ESCREVER ( X, ‘ x 9 = ’, R);\n",
        "\n",
        "  FIM;\n",
        "\n",
        "  FIM_PARA;\n",
        "\n",
        "FIM.\n"
      ],
      "metadata": {
        "id": "rTaLgIPumWFJ"
      }
    },
    {
      "cell_type": "code",
      "execution_count": null,
      "metadata": {
        "colab": {
          "base_uri": "https://localhost:8080/"
        },
        "id": "g0sZ2MxkmKfE",
        "outputId": "0de9e857-4265-4879-b71e-5f0d3e0ffaae"
      },
      "outputs": [
        {
          "output_type": "stream",
          "name": "stdout",
          "text": [
            "1 x 9 = 9\n",
            "2 x 9 = 18\n",
            "3 x 9 = 27\n",
            "4 x 9 = 36\n",
            "5 x 9 = 45\n",
            "6 x 9 = 54\n",
            "7 x 9 = 63\n",
            "8 x 9 = 72\n",
            "9 x 9 = 81\n",
            "10 x 9 = 90\n"
          ]
        }
      ],
      "source": [
        "for i in range(1,11):\n",
        "  print(i,\"x 9 =\",i*9)"
      ]
    },
    {
      "cell_type": "markdown",
      "source": [
        "2. Faça um programa em Python que mostre todos os números inteiros ímpares situados na faixa de 1000 a 1500."
      ],
      "metadata": {
        "id": "of1l6wd4mv-J"
      }
    },
    {
      "cell_type": "code",
      "source": [
        "for i in range(1001,1500,2):\n",
        "  print(i)"
      ],
      "metadata": {
        "colab": {
          "base_uri": "https://localhost:8080/"
        },
        "id": "BwD0wi7Vmz3-",
        "outputId": "24f1899e-2617-46d7-d7b0-d579e2db9038"
      },
      "execution_count": null,
      "outputs": [
        {
          "output_type": "stream",
          "name": "stdout",
          "text": [
            "1001\n",
            "1003\n",
            "1005\n",
            "1007\n",
            "1009\n",
            "1011\n",
            "1013\n",
            "1015\n",
            "1017\n",
            "1019\n",
            "1021\n",
            "1023\n",
            "1025\n",
            "1027\n",
            "1029\n",
            "1031\n",
            "1033\n",
            "1035\n",
            "1037\n",
            "1039\n",
            "1041\n",
            "1043\n",
            "1045\n",
            "1047\n",
            "1049\n",
            "1051\n",
            "1053\n",
            "1055\n",
            "1057\n",
            "1059\n",
            "1061\n",
            "1063\n",
            "1065\n",
            "1067\n",
            "1069\n",
            "1071\n",
            "1073\n",
            "1075\n",
            "1077\n",
            "1079\n",
            "1081\n",
            "1083\n",
            "1085\n",
            "1087\n",
            "1089\n",
            "1091\n",
            "1093\n",
            "1095\n",
            "1097\n",
            "1099\n",
            "1101\n",
            "1103\n",
            "1105\n",
            "1107\n",
            "1109\n",
            "1111\n",
            "1113\n",
            "1115\n",
            "1117\n",
            "1119\n",
            "1121\n",
            "1123\n",
            "1125\n",
            "1127\n",
            "1129\n",
            "1131\n",
            "1133\n",
            "1135\n",
            "1137\n",
            "1139\n",
            "1141\n",
            "1143\n",
            "1145\n",
            "1147\n",
            "1149\n",
            "1151\n",
            "1153\n",
            "1155\n",
            "1157\n",
            "1159\n",
            "1161\n",
            "1163\n",
            "1165\n",
            "1167\n",
            "1169\n",
            "1171\n",
            "1173\n",
            "1175\n",
            "1177\n",
            "1179\n",
            "1181\n",
            "1183\n",
            "1185\n",
            "1187\n",
            "1189\n",
            "1191\n",
            "1193\n",
            "1195\n",
            "1197\n",
            "1199\n",
            "1201\n",
            "1203\n",
            "1205\n",
            "1207\n",
            "1209\n",
            "1211\n",
            "1213\n",
            "1215\n",
            "1217\n",
            "1219\n",
            "1221\n",
            "1223\n",
            "1225\n",
            "1227\n",
            "1229\n",
            "1231\n",
            "1233\n",
            "1235\n",
            "1237\n",
            "1239\n",
            "1241\n",
            "1243\n",
            "1245\n",
            "1247\n",
            "1249\n",
            "1251\n",
            "1253\n",
            "1255\n",
            "1257\n",
            "1259\n",
            "1261\n",
            "1263\n",
            "1265\n",
            "1267\n",
            "1269\n",
            "1271\n",
            "1273\n",
            "1275\n",
            "1277\n",
            "1279\n",
            "1281\n",
            "1283\n",
            "1285\n",
            "1287\n",
            "1289\n",
            "1291\n",
            "1293\n",
            "1295\n",
            "1297\n",
            "1299\n",
            "1301\n",
            "1303\n",
            "1305\n",
            "1307\n",
            "1309\n",
            "1311\n",
            "1313\n",
            "1315\n",
            "1317\n",
            "1319\n",
            "1321\n",
            "1323\n",
            "1325\n",
            "1327\n",
            "1329\n",
            "1331\n",
            "1333\n",
            "1335\n",
            "1337\n",
            "1339\n",
            "1341\n",
            "1343\n",
            "1345\n",
            "1347\n",
            "1349\n",
            "1351\n",
            "1353\n",
            "1355\n",
            "1357\n",
            "1359\n",
            "1361\n",
            "1363\n",
            "1365\n",
            "1367\n",
            "1369\n",
            "1371\n",
            "1373\n",
            "1375\n",
            "1377\n",
            "1379\n",
            "1381\n",
            "1383\n",
            "1385\n",
            "1387\n",
            "1389\n",
            "1391\n",
            "1393\n",
            "1395\n",
            "1397\n",
            "1399\n",
            "1401\n",
            "1403\n",
            "1405\n",
            "1407\n",
            "1409\n",
            "1411\n",
            "1413\n",
            "1415\n",
            "1417\n",
            "1419\n",
            "1421\n",
            "1423\n",
            "1425\n",
            "1427\n",
            "1429\n",
            "1431\n",
            "1433\n",
            "1435\n",
            "1437\n",
            "1439\n",
            "1441\n",
            "1443\n",
            "1445\n",
            "1447\n",
            "1449\n",
            "1451\n",
            "1453\n",
            "1455\n",
            "1457\n",
            "1459\n",
            "1461\n",
            "1463\n",
            "1465\n",
            "1467\n",
            "1469\n",
            "1471\n",
            "1473\n",
            "1475\n",
            "1477\n",
            "1479\n",
            "1481\n",
            "1483\n",
            "1485\n",
            "1487\n",
            "1489\n",
            "1491\n",
            "1493\n",
            "1495\n",
            "1497\n",
            "1499\n"
          ]
        }
      ]
    },
    {
      "cell_type": "markdown",
      "source": [
        "3. Elabore um programa em Python que calcule e escreva a soma de 10 números lidos.\n"
      ],
      "metadata": {
        "id": "CgP0f-NymyHS"
      }
    },
    {
      "cell_type": "code",
      "source": [
        "x = 0\n",
        "11\n",
        "1\n",
        "for i in range(1,11):\n",
        "  x += float(input(\"Insira o \"+str(i)+\"º numero: \"))\n",
        "\n",
        "p(f\"O Valor da soma é:{x}\")"
      ],
      "metadata": {
        "colab": {
          "base_uri": "https://localhost:8080/"
        },
        "id": "JiPR25KqnbWO",
        "outputId": "c88a164f-9909-4cc9-de1f-241981f50c2b"
      },
      "execution_count": null,
      "outputs": [
        {
          "output_type": "stream",
          "name": "stdout",
          "text": [
            "Insira o 1º numero: 1\n",
            "Insira o 2º numero: 1\n",
            "Insira o 3º numero: 1\n",
            "Insira o 4º numero: 1\n",
            "Insira o 5º numero: 1\n",
            "Insira o 6º numero: 1\n",
            "Insira o 7º numero: 1\n",
            "Insira o 8º numero: 1\n",
            "Insira o 9º numero: 1\n",
            "Insira o 10º numero: 1\n",
            "'O Valor da soma é:10.0'\n"
          ]
        }
      ]
    },
    {
      "cell_type": "markdown",
      "source": [
        "4. Faça um programa em Python que leia a nota de 10 alunos de uma turma. Ao final, deve ser escrita a média geral da turma."
      ],
      "metadata": {
        "id": "cfM__84cpnyB"
      }
    },
    {
      "cell_type": "code",
      "source": [
        "x =0\n",
        "for i in range(1,11):\n",
        "  x += float(input(f\"Insira a nota do {i}º aluno: \"))\n",
        "\n",
        "p(f\"A média dos 10 alunos é {x/10}\")"
      ],
      "metadata": {
        "colab": {
          "base_uri": "https://localhost:8080/"
        },
        "id": "G_bml7XCpoia",
        "outputId": "ac2d1741-c550-4fb2-b6a4-050155b2d16a"
      },
      "execution_count": null,
      "outputs": [
        {
          "output_type": "stream",
          "name": "stdout",
          "text": [
            "Insira a nota do 1º aluno: 5\n",
            "Insira a nota do 2º aluno: 5\n",
            "Insira a nota do 3º aluno: 5\n",
            "Insira a nota do 4º aluno: 5\n",
            "Insira a nota do 5º aluno: 5\n",
            "Insira a nota do 6º aluno: 5\n",
            "Insira a nota do 7º aluno: 5\n",
            "Insira a nota do 8º aluno: 5\n",
            "Insira a nota do 9º aluno: 5\n",
            "Insira a nota do 10º aluno: 5\n",
            "'A média dos 10 alunos é 5.0'\n"
          ]
        }
      ]
    },
    {
      "cell_type": "markdown",
      "source": [
        "5. Faça um programa em Python que leia 5 números. Para cada número fornecido, escreva se ele é NULO, NEGATIVO ou POSITIVO."
      ],
      "metadata": {
        "id": "y8EETf6_sVmH"
      }
    },
    {
      "cell_type": "code",
      "source": [
        "for i in range(5):\n",
        "  x = float(input(\"Insira um numero: \"))\n",
        "  if x > 0:\n",
        "    print(\"Numero positivo\")\n",
        "  elif x ==0:\n",
        "    print(\"Numero neutro\")\n",
        "  else:\n",
        "    print(\"Numero negativo\")\n"
      ],
      "metadata": {
        "id": "WRwM1ZzOsXuy"
      },
      "execution_count": null,
      "outputs": []
    },
    {
      "cell_type": "markdown",
      "source": [
        "6. Ler dois valores inteiros e escrever os números em sequência do menor até maior valor."
      ],
      "metadata": {
        "id": "9_doRvAVtqgW"
      }
    },
    {
      "cell_type": "code",
      "source": [
        "x = int(input(\"Insira um numero: \"))\n",
        "y = int(input(\"Insira outro numero: \"))\n",
        "\n",
        "if x > y:\n",
        "  for i in range(y,x+1):\n",
        "    print(i)\n",
        "else:\n",
        "  for i in range(x,y+1):\n",
        "    print(i)"
      ],
      "metadata": {
        "colab": {
          "base_uri": "https://localhost:8080/"
        },
        "id": "VP1meAh2tqM4",
        "outputId": "dc086ff1-9e31-4525-8f67-84c558dea8c9"
      },
      "execution_count": null,
      "outputs": [
        {
          "output_type": "stream",
          "name": "stdout",
          "text": [
            "Insira um numero10\n",
            "Insira outro numero100\n",
            "10\n",
            "11\n",
            "12\n",
            "13\n",
            "14\n",
            "15\n",
            "16\n",
            "17\n",
            "18\n",
            "19\n",
            "20\n",
            "21\n",
            "22\n",
            "23\n",
            "24\n",
            "25\n",
            "26\n",
            "27\n",
            "28\n",
            "29\n",
            "30\n",
            "31\n",
            "32\n",
            "33\n",
            "34\n",
            "35\n",
            "36\n",
            "37\n",
            "38\n",
            "39\n",
            "40\n",
            "41\n",
            "42\n",
            "43\n",
            "44\n",
            "45\n",
            "46\n",
            "47\n",
            "48\n",
            "49\n",
            "50\n",
            "51\n",
            "52\n",
            "53\n",
            "54\n",
            "55\n",
            "56\n",
            "57\n",
            "58\n",
            "59\n",
            "60\n",
            "61\n",
            "62\n",
            "63\n",
            "64\n",
            "65\n",
            "66\n",
            "67\n",
            "68\n",
            "69\n",
            "70\n",
            "71\n",
            "72\n",
            "73\n",
            "74\n",
            "75\n",
            "76\n",
            "77\n",
            "78\n",
            "79\n",
            "80\n",
            "81\n",
            "82\n",
            "83\n",
            "84\n",
            "85\n",
            "86\n",
            "87\n",
            "88\n",
            "89\n",
            "90\n",
            "91\n",
            "92\n",
            "93\n",
            "94\n",
            "95\n",
            "96\n",
            "97\n",
            "98\n",
            "99\n",
            "100\n"
          ]
        }
      ]
    },
    {
      "cell_type": "markdown",
      "source": [
        "7. Faça um programa em Python que escreva os números pares entre 100 e 200."
      ],
      "metadata": {
        "id": "fmg8fPI2vCGa"
      }
    },
    {
      "cell_type": "code",
      "source": [
        "for i in range(100,201,2):\n",
        "  print(i)"
      ],
      "metadata": {
        "colab": {
          "base_uri": "https://localhost:8080/"
        },
        "id": "cNPu6J-uvAbL",
        "outputId": "f479abf9-bc69-4bcd-a3ee-7f4c61e5a063"
      },
      "execution_count": null,
      "outputs": [
        {
          "output_type": "stream",
          "name": "stdout",
          "text": [
            "100\n",
            "102\n",
            "104\n",
            "106\n",
            "108\n",
            "110\n",
            "112\n",
            "114\n",
            "116\n",
            "118\n",
            "120\n",
            "122\n",
            "124\n",
            "126\n",
            "128\n",
            "130\n",
            "132\n",
            "134\n",
            "136\n",
            "138\n",
            "140\n",
            "142\n",
            "144\n",
            "146\n",
            "148\n",
            "150\n",
            "152\n",
            "154\n",
            "156\n",
            "158\n",
            "160\n",
            "162\n",
            "164\n",
            "166\n",
            "168\n",
            "170\n",
            "172\n",
            "174\n",
            "176\n",
            "178\n",
            "180\n",
            "182\n",
            "184\n",
            "186\n",
            "188\n",
            "190\n",
            "192\n",
            "194\n",
            "196\n",
            "198\n",
            "200\n"
          ]
        }
      ]
    },
    {
      "cell_type": "markdown",
      "source": [
        "8. Escrever um programa em Python que leia um valor para n, inteiro e positivo, e escreva a tabuada de n. Com os respectivos valores.\n",
        "\n",
        "n x 1 =\n",
        "\n",
        "n x 2 =\n",
        "\n",
        "...\n",
        "\n",
        "n x 10 =\n"
      ],
      "metadata": {
        "id": "Xz29seaSvJA6"
      }
    },
    {
      "cell_type": "code",
      "source": [
        "x = int(input(\"Insira um numero para fazer a tabuada: \"))\n",
        "for i in range(1,11):\n",
        "  print(f\"{x} x {i} = {x*i}\")"
      ],
      "metadata": {
        "colab": {
          "base_uri": "https://localhost:8080/"
        },
        "id": "h4DJKMNpvJTZ",
        "outputId": "d6b88f1d-bee8-4971-8c55-5851274f275c"
      },
      "execution_count": null,
      "outputs": [
        {
          "output_type": "stream",
          "name": "stdout",
          "text": [
            "Insira um numero para fazer a tabuada: 9\n",
            "9 x 1 = 9\n",
            "9 x 2 = 18\n",
            "9 x 3 = 27\n",
            "9 x 4 = 36\n",
            "9 x 5 = 45\n",
            "9 x 6 = 54\n",
            "9 x 7 = 63\n",
            "9 x 8 = 72\n",
            "9 x 9 = 81\n",
            "9 x 10 = 90\n"
          ]
        }
      ]
    },
    {
      "cell_type": "markdown",
      "source": [
        "9. Escrever um programa em Python que gera os números de 1000 a 1999 e escreve aqueles que divididos por 11 dão um resto igual a 5."
      ],
      "metadata": {
        "id": "tKrSZ9rQ0JFb"
      }
    },
    {
      "cell_type": "code",
      "source": [
        "for i in range(1000,2000):\n",
        "  if i%11==5:\n",
        "    print(i)"
      ],
      "metadata": {
        "colab": {
          "base_uri": "https://localhost:8080/"
        },
        "id": "4mmNZnK-0I0C",
        "outputId": "4f49773c-3406-4580-e292-06e111cdcaf8"
      },
      "execution_count": null,
      "outputs": [
        {
          "output_type": "stream",
          "name": "stdout",
          "text": [
            "1006\n",
            "1017\n",
            "1028\n",
            "1039\n",
            "1050\n",
            "1061\n",
            "1072\n",
            "1083\n",
            "1094\n",
            "1105\n",
            "1116\n",
            "1127\n",
            "1138\n",
            "1149\n",
            "1160\n",
            "1171\n",
            "1182\n",
            "1193\n",
            "1204\n",
            "1215\n",
            "1226\n",
            "1237\n",
            "1248\n",
            "1259\n",
            "1270\n",
            "1281\n",
            "1292\n",
            "1303\n",
            "1314\n",
            "1325\n",
            "1336\n",
            "1347\n",
            "1358\n",
            "1369\n",
            "1380\n",
            "1391\n",
            "1402\n",
            "1413\n",
            "1424\n",
            "1435\n",
            "1446\n",
            "1457\n",
            "1468\n",
            "1479\n",
            "1490\n",
            "1501\n",
            "1512\n",
            "1523\n",
            "1534\n",
            "1545\n",
            "1556\n",
            "1567\n",
            "1578\n",
            "1589\n",
            "1600\n",
            "1611\n",
            "1622\n",
            "1633\n",
            "1644\n",
            "1655\n",
            "1666\n",
            "1677\n",
            "1688\n",
            "1699\n",
            "1710\n",
            "1721\n",
            "1732\n",
            "1743\n",
            "1754\n",
            "1765\n",
            "1776\n",
            "1787\n",
            "1798\n",
            "1809\n",
            "1820\n",
            "1831\n",
            "1842\n",
            "1853\n",
            "1864\n",
            "1875\n",
            "1886\n",
            "1897\n",
            "1908\n",
            "1919\n",
            "1930\n",
            "1941\n",
            "1952\n",
            "1963\n",
            "1974\n",
            "1985\n",
            "1996\n"
          ]
        }
      ]
    },
    {
      "cell_type": "markdown",
      "source": [
        "10. Faça um programa em Python que leia um número qualquer (N), e realize a soma dos números de 1 até N. Ao final, deve-se escrever o resultado."
      ],
      "metadata": {
        "id": "wcjNmZ_30lS-"
      }
    },
    {
      "cell_type": "code",
      "source": [
        "n = int(input(\"Insira um numero: \"))\n",
        "x=0\n",
        "for i in range(n+1):\n",
        "  x+=i\n",
        "\n",
        "print(x)"
      ],
      "metadata": {
        "colab": {
          "base_uri": "https://localhost:8080/"
        },
        "id": "7bidIs2h0l-L",
        "outputId": "a1eea118-2325-4856-dbb6-cd68ebefb552"
      },
      "execution_count": null,
      "outputs": [
        {
          "output_type": "stream",
          "name": "stdout",
          "text": [
            "Insira um numero: 10\n",
            "55\n"
          ]
        }
      ]
    },
    {
      "cell_type": "markdown",
      "source": [
        "11. Faça um programa em Python para ler 10 valores inteiros. Para cada valor fornecido escreva uma mensagem que indica se cada valor fornecido é PAR ou ÍMPAR."
      ],
      "metadata": {
        "id": "Pb5yKdAZ08aq"
      }
    },
    {
      "cell_type": "code",
      "source": [
        "for i in range(10):\n",
        "  x = int(input(\"Insira um numero\"))\n",
        "  if x%2==0:\n",
        "    print(\"O numero é par\")\n",
        "  else:\n",
        "    print(\"O numero é impar\")"
      ],
      "metadata": {
        "id": "BQZgHE1509Kh"
      },
      "execution_count": null,
      "outputs": []
    },
    {
      "cell_type": "markdown",
      "source": [
        "12. Faça um programa em Python que leia a idade de 10 alunos, calcule e escreva a média de idade destes."
      ],
      "metadata": {
        "id": "HRO8ZoZJ1QdU"
      }
    },
    {
      "cell_type": "code",
      "source": [
        "idade = 0\n",
        "\n",
        "for i in range(10):\n",
        "  idade+=int(input(f\"Insira a idade do {i+1}º aluno\"))"
      ],
      "metadata": {
        "id": "vkXteQHn1Q9B"
      },
      "execution_count": null,
      "outputs": []
    },
    {
      "cell_type": "markdown",
      "source": [
        "13. Faça um algoritmo em Python que leia dois valores inteiros e escreva se eles estão em ordem crescente, decrescente ou são iguais, após isso escreva todos os valores do menor ao maior.\n"
      ],
      "metadata": {
        "id": "1iJfyizh2JCt"
      }
    },
    {
      "cell_type": "code",
      "source": [
        "n1 = int(input(\"Insira um numero: \"))\n",
        "n2 = int(input(\"Insira outro numero: \"))\n",
        "\n",
        "if n1>n2:\n",
        "  print(\"O primeiro numero é maior\")\n",
        "  print(n2,n1)\n",
        "elif n1==n2:\n",
        "  print(\"Os numeros são iguais\")\n",
        "  print(n1,n2)\n",
        "else:\n",
        "  print(\"O segundo numero é maior\")\n",
        "  print(n1,n2)"
      ],
      "metadata": {
        "colab": {
          "base_uri": "https://localhost:8080/"
        },
        "id": "-xG9Txpf2IpP",
        "outputId": "f9671f37-6656-41f5-fa14-df424b01e067"
      },
      "execution_count": null,
      "outputs": [
        {
          "output_type": "stream",
          "name": "stdout",
          "text": [
            "Insira um numero: 45\n",
            "Insira outro numero: 84\n",
            "O segundo numero é maior\n",
            "45 84\n"
          ]
        }
      ]
    },
    {
      "cell_type": "markdown",
      "source": [
        "14. Escrever um programa em Python que lê 10 valores para n, um de cada vez, todos inteiros e positivos, e para cada n lido, escreva a tabuada de 1 até n de n.\n",
        "\n",
        "1 x n = n\n",
        "\n",
        "2 x n = 2n\n",
        "\n",
        "...\n",
        "\n",
        "n x n = n2"
      ],
      "metadata": {
        "id": "sE7Q4vK523HH"
      }
    },
    {
      "cell_type": "code",
      "source": [
        "for i in range(10):\n",
        "  x = int(input(\"Insira um numero: \"))\n",
        "  if x >=0:\n",
        "    for i in range(1,x+1):\n",
        "      print(f\"{i}x{x}={i*x}\")"
      ],
      "metadata": {
        "colab": {
          "base_uri": "https://localhost:8080/"
        },
        "id": "K93FE5Qk23p1",
        "outputId": "b499cd7b-dba8-426a-aaee-df9fcb0c78e8"
      },
      "execution_count": null,
      "outputs": [
        {
          "output_type": "stream",
          "name": "stdout",
          "text": [
            "Insira um numero: 1\n",
            "1x1=1\n",
            "Insira um numero: 2\n",
            "1x2=2\n",
            "2x2=4\n",
            "Insira um numero: 3\n",
            "1x3=3\n",
            "2x3=6\n",
            "3x3=9\n",
            "Insira um numero: 4\n",
            "1x4=4\n",
            "2x4=8\n",
            "3x4=12\n",
            "4x4=16\n",
            "Insira um numero: 5\n",
            "1x5=5\n",
            "2x5=10\n",
            "3x5=15\n",
            "4x5=20\n",
            "5x5=25\n",
            "Insira um numero: 6\n",
            "1x6=6\n",
            "2x6=12\n",
            "3x6=18\n",
            "4x6=24\n",
            "5x6=30\n",
            "6x6=36\n",
            "Insira um numero: 7\n",
            "1x7=7\n",
            "2x7=14\n",
            "3x7=21\n",
            "4x7=28\n",
            "5x7=35\n",
            "6x7=42\n",
            "7x7=49\n",
            "Insira um numero: 8\n",
            "1x8=8\n",
            "2x8=16\n",
            "3x8=24\n",
            "4x8=32\n",
            "5x8=40\n",
            "6x8=48\n",
            "7x8=56\n",
            "8x8=64\n",
            "Insira um numero: 9\n",
            "1x9=9\n",
            "2x9=18\n",
            "3x9=27\n",
            "4x9=36\n",
            "5x9=45\n",
            "6x9=54\n",
            "7x9=63\n",
            "8x9=72\n",
            "9x9=81\n",
            "Insira um numero: 10\n",
            "1x10=10\n",
            "2x10=20\n",
            "3x10=30\n",
            "4x10=40\n",
            "5x10=50\n",
            "6x10=60\n",
            "7x10=70\n",
            "8x10=80\n",
            "9x10=90\n",
            "10x10=100\n"
          ]
        }
      ]
    }
  ]
}