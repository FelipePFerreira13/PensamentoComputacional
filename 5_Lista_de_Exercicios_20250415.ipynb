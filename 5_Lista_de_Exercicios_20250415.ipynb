{
  "nbformat": 4,
  "nbformat_minor": 0,
  "metadata": {
    "colab": {
      "provenance": [],
      "authorship_tag": "ABX9TyMcTTKYvxU2ZymqDEFt3oyx",
      "include_colab_link": true
    },
    "kernelspec": {
      "name": "python3",
      "display_name": "Python 3"
    },
    "language_info": {
      "name": "python"
    }
  },
  "cells": [
    {
      "cell_type": "markdown",
      "metadata": {
        "id": "view-in-github",
        "colab_type": "text"
      },
      "source": [
        "<a href=\"https://colab.research.google.com/github/FelipePFerreira13/PensamentoComputacional/blob/main/5_Lista_de_Exercicios_20250415.ipynb\" target=\"_parent\"><img src=\"https://colab.research.google.com/assets/colab-badge.svg\" alt=\"Open In Colab\"/></a>"
      ]
    },
    {
      "cell_type": "markdown",
      "source": [
        "Exercício 1 – Array de 5 Nomes\n",
        "Objetivo:\n",
        "Ler 5 nomes de pessoas quaisquer.\n",
        "Exibir todos os nomes do primeiro ao último.\n",
        "Exemplo de entrada/saída:\n",
        "Entrada:\n",
        "\n",
        "Rogério\n",
        "\n",
        "Amanda\n",
        "\n",
        "Luiz\n",
        "\n",
        "Juliana\n",
        "\n",
        "Carlos\n",
        "\n",
        "Saída:\n",
        "\n",
        "Rogério\n",
        "\n",
        "Amanda\n",
        "\n",
        "Luiz\n",
        "\n",
        "Juliana\n",
        "\n",
        "Carlos"
      ],
      "metadata": {
        "id": "NN2wyPHjqGcj"
      }
    },
    {
      "cell_type": "code",
      "execution_count": 2,
      "metadata": {
        "colab": {
          "base_uri": "https://localhost:8080/"
        },
        "id": "O4s5zCY9qClw",
        "outputId": "6aa98bd0-613f-485d-f695-96e787305201"
      },
      "outputs": [
        {
          "output_type": "stream",
          "name": "stdout",
          "text": [
            "Insira o 1º nome: teste\n",
            "Insira o 2º nome: teste2\n",
            "Insira o 3º nome: test\n",
            "Insira o 4º nome: tes\n",
            "Insira o 5º nome: t\n",
            "teste\n",
            "teste2\n",
            "test\n",
            "tes\n",
            "t\n"
          ]
        }
      ],
      "source": [
        "nomes = []\n",
        "for i in range(5):\n",
        "  nomes.append(input(f\"Insira o {i+1}º nome: \"))\n",
        "\n",
        "for i in range(5):\n",
        "  print(nomes[i])"
      ]
    },
    {
      "cell_type": "markdown",
      "source": [
        "Exercício 2 – Lista com Quantidade Informada\n",
        "Objetivo:\n",
        "Perguntar ao usuário quantos nomes ele irá informar.\n",
        "Ler os nomes e exibi-los na mesma ordem.\n",
        "Exemplo de entrada/saída:\n",
        "Entrada:\n",
        "\n",
        "7\n",
        "\n",
        "Rogério\n",
        "\n",
        "Amanda\n",
        "\n",
        "Luiz\n",
        "\n",
        "Juliana\n",
        "\n",
        "Carlos\n",
        "\n",
        "Ana\n",
        "\n",
        "Armando\n",
        "\n",
        "Saída:\n",
        "\n",
        "Rogério\n",
        "\n",
        "Amanda\n",
        "\n",
        "Luiz\n",
        "\n",
        "Juliana\n",
        "\n",
        "Carlos\n",
        "\n",
        "Ana\n",
        "\n",
        "Armando"
      ],
      "metadata": {
        "id": "ubtQeSgwqmFK"
      }
    },
    {
      "cell_type": "code",
      "source": [
        "nomes = []\n",
        "\n",
        "while True:\n",
        "  x = int(input(\"Insira quantos numeros quer colocar: \"))\n",
        "  if(x) <= 0:\n",
        "    print(\"insira um numero positivo diferente de zero\")\n",
        "    continue\n",
        "  break\n",
        "\n",
        "for i in range(x):\n",
        "  nomes.append(input(f\"Insira o {i+1}º nome: \"))\n",
        "\n",
        "for i in range(x):\n",
        "  print(nomes[i])"
      ],
      "metadata": {
        "colab": {
          "base_uri": "https://localhost:8080/"
        },
        "id": "lF_b4lwPq30u",
        "outputId": "9b165f08-49fe-438b-fea5-67bfa55fc856"
      },
      "execution_count": 3,
      "outputs": [
        {
          "output_type": "stream",
          "name": "stdout",
          "text": [
            "Insira quantos nomes quer colocar: 3\n",
            "Insira o 1º nome: t1\n",
            "Insira o 2º nome: t2\n",
            "Insira o 3º nome: t3\n",
            "t1\n",
            "t2\n",
            "t3\n"
          ]
        }
      ]
    },
    {
      "cell_type": "markdown",
      "source": [
        "Exercício 3 – Times de Futebol\n",
        "Objetivo:\n",
        "Ler uma lista com nomes de times (-quantidade definida pelo usuário).\n",
        "\n",
        "Exibir: o primeiro time, o time do meio e o último time.\n",
        "\n",
        "Exemplo 1: (7 times)\n",
        "\n",
        "Entrada:\n",
        "\n",
        "Grêmio, Inter, Palmeiras, Fluminense, Botafogo, Aimoré, Flamengo\n",
        "\n",
        "Saída:\n",
        "\n",
        "Grêmio (primeiro)\n",
        "\n",
        "Fluminense (meio)\n",
        "\n",
        "Flamengo (último)\n",
        "\n",
        "Exemplo 2: (8 times)\n",
        "\n",
        "Entrada:\n",
        "\n",
        "Grêmio, Inter, Palmeiras, Fluminense, Botafogo, Aimoré, Flamengo, Corinthians\n",
        "\n",
        "Saída:\n",
        "\n",
        "Grêmio (primeiro)\n",
        "\n",
        "Fluminense/Botafogo (meio)\n",
        "\n",
        "Corinthians (último)"
      ],
      "metadata": {
        "id": "xSBrbXAdrNYe"
      }
    },
    {
      "cell_type": "code",
      "source": [
        "nomes = []\n",
        "\n",
        "x = int(input(\"Insira quantos nomes quer colocar: \"))\n",
        "\n",
        "for i in range(x):\n",
        "  nomes.append(input(f\"Insira o {i+1}º nome: \"))\n",
        "\n",
        "print(f\"{nomes[0]} (primeiro)\")\n",
        "if x%2 ==0 :\n",
        "  print(f\"{nomes[x//2-1]} / {nomes[x//2]} (meio)\")\n",
        "else:\n",
        "  print(f\"{nomes[x//2]} (meio)\")\n",
        "print(f\"{nomes[-1]}(último)\")"
      ],
      "metadata": {
        "colab": {
          "base_uri": "https://localhost:8080/"
        },
        "id": "0f837rPVrT0u",
        "outputId": "925e1917-d24f-429c-f6aa-631dcb2465db"
      },
      "execution_count": 9,
      "outputs": [
        {
          "output_type": "stream",
          "name": "stdout",
          "text": [
            "Insira quantos nomes quer colocar: 8\n",
            "Insira o 1º nome: t1\n",
            "Insira o 2º nome: t2\n",
            "Insira o 3º nome: t3\n",
            "Insira o 4º nome: t4\n",
            "Insira o 5º nome: t5\n",
            "Insira o 6º nome: t6\n",
            "Insira o 7º nome: t7\n",
            "Insira o 8º nome: t8\n",
            "t1 (primeiro)\n",
            "t4 / t5 (meio)\n",
            "t8(último)\n"
          ]
        }
      ]
    },
    {
      "cell_type": "markdown",
      "source": [
        "Exercício 4 – Exibir Números (Ordem Normal)\n",
        "Objetivo:\n",
        "Ler uma lista de números quaisquer.\n",
        "Exibir os números do primeiro ao último.\n",
        "\n",
        "Exemplo de entrada/saída:\n",
        "\n",
        "Entrada:\n",
        "\n",
        "7\n",
        "\n",
        "4\n",
        "\n",
        "7\n",
        "\n",
        "2\n",
        "\n",
        "1\n",
        "\n",
        "Saída:\n",
        "\n",
        "7\n",
        "\n",
        "4\n",
        "\n",
        "7\n",
        "\n",
        "2\n",
        "\n",
        "1"
      ],
      "metadata": {
        "id": "3MxfgB3MtCh9"
      }
    },
    {
      "cell_type": "code",
      "source": [
        "nums = []\n",
        "while True:\n",
        "  x = input(\"Insira um numero (não insira uma letra para sair): \")\n",
        "  if not(x.isnumeric()):\n",
        "    break\n",
        "  nums.append(int(x))\n",
        "\n",
        "for n in nums:\n",
        "  print(n)\n"
      ],
      "metadata": {
        "colab": {
          "base_uri": "https://localhost:8080/"
        },
        "id": "sTIugvs2tTIZ",
        "outputId": "c624355e-dd22-40ef-c944-cf4d0f54f390"
      },
      "execution_count": 19,
      "outputs": [
        {
          "output_type": "stream",
          "name": "stdout",
          "text": [
            "Insira um numero (insira s para sair): 1\n",
            "Insira um numero (insira s para sair): 2\n",
            "Insira um numero (insira s para sair): 3\n",
            "Insira um numero (insira s para sair): 4\n",
            "Insira um numero (insira s para sair): 5\n",
            "1\n",
            "2\n",
            "3\n",
            "4\n",
            "5\n"
          ]
        }
      ]
    },
    {
      "cell_type": "markdown",
      "source": [
        "Exercício 5 – Exibir Números (Ordem Inversa)\n",
        "Objetivo:\n",
        "Ler uma lista de números.\n",
        "Exibir os números do último para o primeiro.\n",
        "\n",
        "Exemplo de entrada/saída:\n",
        "\n",
        "Entrada:\n",
        "\n",
        "7\n",
        "\n",
        "4\n",
        "\n",
        "7\n",
        "\n",
        "2\n",
        "\n",
        "1\n",
        "\n",
        "8\n",
        "\n",
        "9\n",
        "\n",
        "4\n",
        "\n",
        "11\n",
        "\n",
        "Saída:\n",
        "\n",
        "11\n",
        "\n",
        "4\n",
        "\n",
        "9\n",
        "\n",
        "8\n",
        "\n",
        "1\n",
        "\n",
        "2\n",
        "\n",
        "7\n",
        "\n",
        "4\n",
        "\n",
        "7"
      ],
      "metadata": {
        "id": "UF4n2yC5vPti"
      }
    },
    {
      "cell_type": "code",
      "source": [
        "nums = []\n",
        "c = 0\n",
        "while True:\n",
        "  x = input(\"Insira um numero (não insira uma letra para sair): \")\n",
        "  if not(x.isnumeric()):\n",
        "    break\n",
        "  nums.append(int(x))\n",
        "  c+=1\n",
        "\n",
        "for i in range(1,c+1):\n",
        "  print(nums[i*-1])\n"
      ],
      "metadata": {
        "colab": {
          "base_uri": "https://localhost:8080/"
        },
        "id": "9-Yws8JHvVCU",
        "outputId": "43b3c2bb-4a55-4e8b-fa51-ec770c694cfd"
      },
      "execution_count": 28,
      "outputs": [
        {
          "output_type": "stream",
          "name": "stdout",
          "text": [
            "Insira um numero (insira s para sair): 1\n",
            "Insira um numero (insira s para sair): 2\n",
            "Insira um numero (insira s para sair): 3\n",
            "Insira um numero (insira s para sair): 4\n",
            "Insira um numero (insira s para sair): 5\n",
            "Insira um numero (insira s para sair): 6\n",
            "Insira um numero (insira s para sair): s\n",
            "6\n",
            "5\n",
            "4\n",
            "3\n",
            "2\n",
            "1\n"
          ]
        }
      ]
    },
    {
      "cell_type": "markdown",
      "source": [
        "Exercício 6 – Exibir Números Pulando de 2 em 2\n",
        "\n",
        "Objetivo:\n",
        "\n",
        "Ler uma lista de números.\n",
        "\n",
        "Exibir os números do primeiro ao último, pulando de dois em dois.\n",
        "\n",
        "Exemplo 1:\n",
        "\n",
        "Entrada:\n",
        "\n",
        "8\n",
        "\n",
        "8\n",
        "\n",
        "3\n",
        "\n",
        "7\n",
        "\n",
        "0\n",
        "\n",
        "2\n",
        "\n",
        "9\n",
        "\n",
        "5\n",
        "\n",
        "2\n",
        "\n",
        "Saída:\n",
        "\n",
        "8\n",
        "\n",
        "7\n",
        "\n",
        "2\n",
        "\n",
        "5\n",
        "\n",
        "Exemplo 2:\n",
        "\n",
        "Entrada:\n",
        "\n",
        "9\n",
        "\n",
        "8\n",
        "\n",
        "3\n",
        "\n",
        "7\n",
        "\n",
        "0\n",
        "\n",
        "2\n",
        "\n",
        "9\n",
        "\n",
        "5\n",
        "\n",
        "2\n",
        "\n",
        "8\n",
        "\n",
        "Saída:\n",
        "\n",
        "8\n",
        "\n",
        "7\n",
        "\n",
        "2\n",
        "\n",
        "5\n",
        "\n",
        "8"
      ],
      "metadata": {
        "id": "SYHjuQZDw57L"
      }
    },
    {
      "cell_type": "code",
      "source": [
        "nums = []\n",
        "c = 0\n",
        "while True:\n",
        "  x = input(\"Insira um numero (não insira uma letra para sair): \")\n",
        "  if not(x.isnumeric()):\n",
        "    break\n",
        "  nums.append(int(x))\n",
        "  c+=1\n",
        "\n",
        "for i in range(0,c-1,3):\n",
        "  print(nums[i])"
      ],
      "metadata": {
        "colab": {
          "base_uri": "https://localhost:8080/"
        },
        "id": "Lo87XrUlxC2g",
        "outputId": "4ecc8ae0-dd3b-4134-ed6b-749d0ce4eeaf"
      },
      "execution_count": 17,
      "outputs": [
        {
          "output_type": "stream",
          "name": "stdout",
          "text": [
            "Insira um numero (insira s para sair): 1\n",
            "Insira um numero (insira s para sair): 2\n",
            "Insira um numero (insira s para sair): 3\n",
            "Insira um numero (insira s para sair): 4\n",
            "Insira um numero (insira s para sair): 5\n",
            "Insira um numero (insira s para sair): 6\n",
            "Insira um numero (insira s para sair): 7\n",
            "Insira um numero (insira s para sair): 8\n",
            "Insira um numero (insira s para sair): 9\n",
            "Insira um numero (insira s para sair): s\n",
            "1\n",
            "4\n",
            "7\n"
          ]
        }
      ]
    },
    {
      "cell_type": "markdown",
      "source": [
        "Exercício 7 – Exibir Números Inversos Pulando de 3 em 3\n",
        "\n",
        "Objetivo:\n",
        "\n",
        "Ler uma lista de números.\n",
        "\n",
        "Exibir os números do último para o primeiro, pulando de três em três.\n",
        "\n",
        "Exemplo 1:\n",
        "\n",
        "Entrada:\n",
        "\n",
        "8\n",
        "\n",
        "8\n",
        "\n",
        "3\n",
        "\n",
        "7\n",
        "\n",
        "0\n",
        "\n",
        "2\n",
        "\n",
        "9\n",
        "\n",
        "5\n",
        "\n",
        "2\n",
        "\n",
        "Saída:\n",
        "\n",
        "2\n",
        "\n",
        "2\n",
        "\n",
        "3\n",
        "\n",
        "Exemplo 2:\n",
        "\n",
        "Entrada:\n",
        "\n",
        "9\n",
        "\n",
        "8\n",
        "\n",
        "3\n",
        "\n",
        "7\n",
        "\n",
        "0\n",
        "\n",
        "2\n",
        "\n",
        "9\n",
        "\n",
        "5\n",
        "\n",
        "2\n",
        "\n",
        "8\n",
        "\n",
        "Saída:\n",
        "\n",
        "8\n",
        "\n",
        "9\n",
        "\n",
        "7"
      ],
      "metadata": {
        "id": "uLCCzF4fyeN0"
      }
    },
    {
      "cell_type": "code",
      "source": [
        "nums = []\n",
        "c = 0\n",
        "while True:\n",
        "  x = input(\"Insira um numero (não insira uma letra para sair): \")\n",
        "  if not(x.isnumeric()):\n",
        "    break\n",
        "  nums.append(int(x))\n",
        "  c+=1\n",
        "\n",
        "\n",
        "for i in range(1,c+1,4):\n",
        "  print(nums[i*-1])"
      ],
      "metadata": {
        "colab": {
          "base_uri": "https://localhost:8080/"
        },
        "id": "5Ab-X4tJyo3i",
        "outputId": "b32acac0-add4-4bbd-c689-2a568331663f"
      },
      "execution_count": 32,
      "outputs": [
        {
          "output_type": "stream",
          "name": "stdout",
          "text": [
            "Insira um numero (insira s para sair): 1\n",
            "Insira um numero (insira s para sair): 2\n",
            "Insira um numero (insira s para sair): 3\n",
            "Insira um numero (insira s para sair): 4\n",
            "Insira um numero (insira s para sair): 5\n",
            "Insira um numero (insira s para sair): 6\n",
            "Insira um numero (insira s para sair): 7\n",
            "Insira um numero (insira s para sair): 8\n",
            "Insira um numero (insira s para sair): 9\n",
            "Insira um numero (insira s para sair): 10\n",
            "Insira um numero (insira s para sair): s\n",
            "10\n",
            "6\n",
            "2\n"
          ]
        }
      ]
    },
    {
      "cell_type": "markdown",
      "source": [
        "Exercício 8 – Exibir a Partir do Meio\n",
        "\n",
        "Objetivo:\n",
        "\n",
        "Ler uma lista de números (com quantidade definida pelo usuário).\n",
        "\n",
        "Exibir os números do meio ao primeiro e, depois, do meio ao último.\n",
        "\n",
        "Se a lista for par, não há um único valor central.\n",
        "\n",
        "Exemplo 1: (5 números)\n",
        "\n",
        "Entrada:\n",
        "\n",
        "8\n",
        "\n",
        "3\n",
        "\n",
        "7\n",
        "\n",
        "0\n",
        "\n",
        "2\n",
        "\n",
        "Saída:\n",
        "\n",
        "7\n",
        "\n",
        "3\n",
        "\n",
        "8\n",
        "\n",
        "7\n",
        "\n",
        "0\n",
        "\n",
        "2\n",
        "\n",
        "Exemplo 2: (6 números)\n",
        "\n",
        "Entrada:\n",
        "\n",
        "8\n",
        "\n",
        "3\n",
        "\n",
        "7\n",
        "\n",
        "0\n",
        "\n",
        "2\n",
        "\n",
        "9\n",
        "\n",
        "Saída:\n",
        "\n",
        "7\n",
        "\n",
        "3\n",
        "\n",
        "8\n",
        "\n",
        "0\n",
        "\n",
        "2\n",
        "\n",
        "9"
      ],
      "metadata": {
        "id": "tNDxFTIlzVlt"
      }
    },
    {
      "cell_type": "code",
      "source": [
        "nums = []\n",
        "\n",
        "while True:\n",
        "  x = int(input(\"Insira quantos numeros quer colocar: \"))\n",
        "  if(x) <= 0:\n",
        "    print(\"insira um numero positivo diferente de zero\")\n",
        "    continue\n",
        "  break\n",
        "for i in range(x):\n",
        "  nums.append(input(f\"Insira o {i+1}º numero: \"))\n",
        "\n",
        "for i in range(x//2,x):\n",
        "  print(nums[i])"
      ],
      "metadata": {
        "colab": {
          "base_uri": "https://localhost:8080/"
        },
        "id": "vFBCfeQwzbKj",
        "outputId": "3b7c3808-9347-4910-c4b7-7bdc9da48250"
      },
      "execution_count": 25,
      "outputs": [
        {
          "output_type": "stream",
          "name": "stdout",
          "text": [
            "Insira quantos numeros quer colocar: 5\n",
            "Insira o 1º numero: 1\n",
            "Insira o 2º numero: 2\n",
            "Insira o 3º numero: 3\n",
            "Insira o 4º numero: 4\n",
            "Insira o 5º numero: 5\n",
            "3\n",
            "4\n",
            "5\n"
          ]
        }
      ]
    },
    {
      "cell_type": "markdown",
      "source": [
        "Exercício 9 – Filtrar Salários\n",
        "\n",
        "Objetivo:\n",
        "\n",
        "Ler uma lista de salários.\n",
        "\n",
        "Exibir apenas os salários maiores ou iguais a R$1412,00.\n",
        "\n",
        "Exemplo 1:\n",
        "\n",
        "Entrada:\n",
        "\n",
        "5\n",
        "\n",
        "3500.0\n",
        "\n",
        "1400.0\n",
        "\n",
        "900.2\n",
        "\n",
        "1900.2\n",
        "\n",
        "899.0\n",
        "\n",
        "Saída:\n",
        "\n",
        "3500.0\n",
        "\n",
        "1900.2\n",
        "\n",
        "Exemplo 2:\n",
        "\n",
        "Entrada:\n",
        "\n",
        "7\n",
        "\n",
        "3900.9\n",
        "\n",
        "1500.2\n",
        "\n",
        "3200.5\n",
        "\n",
        "1411.9\n",
        "\n",
        "1412.0\n",
        "\n",
        "9000.0\n",
        "\n",
        "1699.0\n",
        "\n",
        "Saída:\n",
        "\n",
        "3900.9\n",
        "\n",
        "1500.2\n",
        "\n",
        "3200.5\n",
        "\n",
        "1412.0\n",
        "\n",
        "9000.0\n",
        "\n",
        "1699.0"
      ],
      "metadata": {
        "id": "bnAr1yaW00QI"
      }
    },
    {
      "cell_type": "code",
      "source": [
        "nums = []\n",
        "while True:\n",
        "  x = input(\"Insira um numero (não insira uma letra para sair): \")\n",
        "  if not(x.isnumeric()):\n",
        "    break\n",
        "  x = float(x)\n",
        "  if x>=1412:\n",
        "    nums.append(x)\n",
        "\n",
        "for n in nums:\n",
        "  print(n)\n"
      ],
      "metadata": {
        "colab": {
          "base_uri": "https://localhost:8080/"
        },
        "id": "Y_LBjpVO049A",
        "outputId": "06f3798b-df69-4848-b654-e9cbecaab3d2"
      },
      "execution_count": 26,
      "outputs": [
        {
          "output_type": "stream",
          "name": "stdout",
          "text": [
            "Insira um numero (insira s para sair): 154\n",
            "Insira um numero (insira s para sair): 251\n",
            "Insira um numero (insira s para sair): 5533\n",
            "Insira um numero (insira s para sair): 1235\n",
            "Insira um numero (insira s para sair): 1534\n",
            "Insira um numero (insira s para sair): 13548\n",
            "Insira um numero (insira s para sair): s\n",
            "5533.0\n",
            "1534.0\n",
            "13548.0\n"
          ]
        }
      ]
    },
    {
      "cell_type": "markdown",
      "source": [
        "Exercício 10 – Notas dos Alunos (Separar Aprovação)\n",
        "\n",
        "Objetivo:\n",
        "\n",
        "Ler uma lista de notas.\n",
        "\n",
        "Exibir primeiro as notas que alcançaram a média (≥ 7.0) e depois as que não\n",
        "\n",
        "alcançaram.\n",
        "\n",
        "Exemplo:\n",
        "\n",
        "Entrada:\n",
        "\n",
        "10\n",
        "\n",
        "9.0\n",
        "\n",
        "7.0\n",
        "\n",
        "7.5\n",
        "\n",
        "6.5\n",
        "\n",
        "8.0\n",
        "\n",
        "5.9\n",
        "\n",
        "7.2\n",
        "\n",
        "6.9\n",
        "\n",
        "10\n",
        "\n",
        "8.5\n",
        "\n",
        "Saída:\n",
        "\n",
        "Notas com média: 9.0, 7.0, 7.5, 8.0, 7.2, 10, 8.5\n",
        "\n",
        "Notas sem média: 6.5, 5.9, 6.9"
      ],
      "metadata": {
        "id": "vBP6cDWG1YWW"
      }
    },
    {
      "cell_type": "code",
      "source": [
        "c_media = []\n",
        "s_media = []\n",
        "\n",
        "q = 0\n",
        "\n",
        "while True:\n",
        "  q = int(input(\"Insira quantas notas quer calcular: \"))\n",
        "  if q <= 0:\n",
        "    print(\"Insira um numero maior que zero\")\n",
        "\n",
        "  else:\n",
        "    break\n",
        "y = 0\n",
        "while y <q:\n",
        "  x = input(\"Insira uma nota entre 0 e 10 (insira uma letra para sair): \")\n",
        "  if not(x.isnumeric()):\n",
        "    print(\"Valor invalido\")\n",
        "    continue\n",
        "  x = float(x)\n",
        "  if x<=10 and x>=0:\n",
        "    if x >=7:\n",
        "      c_media.append(x)\n",
        "      y+=1\n",
        "    else:\n",
        "      s_media.append(x)\n",
        "      y+=1\n",
        "  else:\n",
        "    print(\"Numero invalido\")\n",
        "\n",
        "for i in range(len(c_media)):\n",
        "  c_media[i] = str(c_media[i]).replace('.',',')\n",
        "for i in range(len(s_media)):\n",
        "  s_media[i] = str(s_media[i]).replace('.',',')\n",
        "\n",
        "print(f\"Notas com media {' , '.join(c_media)}\")\n",
        "print(f\"Notas sem media {' , '.join(s_media)}\")\n"
      ],
      "metadata": {
        "colab": {
          "base_uri": "https://localhost:8080/"
        },
        "id": "NLrMzcLw1b5R",
        "outputId": "14333e63-a421-4deb-c941-3df28594f32c"
      },
      "execution_count": 45,
      "outputs": [
        {
          "output_type": "stream",
          "name": "stdout",
          "text": [
            "Insira quantas notas quer calcular: 10\n",
            "Insira uma nota entre 0 e 10 (insira uma letra para sair): 5\n",
            "Insira uma nota entre 0 e 10 (insira uma letra para sair): 9\n",
            "Insira uma nota entre 0 e 10 (insira uma letra para sair): 15\n",
            "Numero invalido\n",
            "Insira uma nota entre 0 e 10 (insira uma letra para sair): 15\n",
            "Numero invalido\n",
            "Insira uma nota entre 0 e 10 (insira uma letra para sair): 5\n",
            "Insira uma nota entre 0 e 10 (insira uma letra para sair): 1\n",
            "Insira uma nota entre 0 e 10 (insira uma letra para sair): 2\n",
            "Insira uma nota entre 0 e 10 (insira uma letra para sair): 9\n",
            "Insira uma nota entre 0 e 10 (insira uma letra para sair): 7\n",
            "Insira uma nota entre 0 e 10 (insira uma letra para sair): 8\n",
            "Insira uma nota entre 0 e 10 (insira uma letra para sair): 9\n",
            "Insira uma nota entre 0 e 10 (insira uma letra para sair): 8\n",
            "Notas com media 9,0 , 9,0 , 7,0 , 8,0 , 9,0 , 8,0\n",
            "Notas sem media 5,0 , 5,0 , 1,0 , 2,0\n"
          ]
        }
      ]
    },
    {
      "cell_type": "markdown",
      "source": [
        "Exercício 11 – Soma de 12 Salários\n",
        "\n",
        "Objetivo:\n",
        "\n",
        "Ler uma lista de 12 salários.\n",
        "\n",
        "Calcular e exibir a soma total dos salários.\n",
        "\n",
        "Exemplo:\n",
        "\n",
        "Entrada:\n",
        "\n",
        "1900.0, 1850.0, 1900.0, 2100.0, 1900.0, 1800.0, 2000.0, 1900.0, 2100.0, 2200.0,\n",
        "1800.0, 2300.0\n",
        "\n",
        "Saída:\n",
        "\n",
        "23750.0"
      ],
      "metadata": {
        "id": "-IiMs7ew65xd"
      }
    },
    {
      "cell_type": "code",
      "source": [
        "soma = 0\n",
        "l = []\n",
        "\n",
        "for i in range(12):\n",
        "  x = input(f\"Insira o {i+1}º salario: \")\n",
        "\n",
        "  if not(x.isnumeric()):\n",
        "    print(\"Insira um numero\")\n",
        "    continue\n",
        "  x = float(x)\n",
        "\n",
        "  if x > 0:\n",
        "    l.append(x)\n",
        "  else:\n",
        "    print(\"Precisa inserir um salario positivo\")\n",
        "\n",
        "for i in l:\n",
        "  soma += i\n",
        "\n",
        "print(f\"A soma dos salarios é {soma}\")\n",
        ""
      ],
      "metadata": {
        "colab": {
          "base_uri": "https://localhost:8080/"
        },
        "id": "vOBetGEM6-_G",
        "outputId": "0bc7dfc9-731e-4948-8c6c-01fb041f64a0"
      },
      "execution_count": 39,
      "outputs": [
        {
          "output_type": "stream",
          "name": "stdout",
          "text": [
            "Insira o 1 salario: 1\n",
            "Insira o 2 salario: 1\n",
            "Insira o 3 salario: 1\n",
            "Insira o 4 salario: 1\n",
            "Insira o 5 salario: 1\n",
            "Insira o 6 salario: 1\n",
            "Insira o 7 salario: 1\n",
            "Insira o 8 salario: 1\n",
            "Insira o 9 salario: \n",
            "Insira um numero\n",
            "Insira o 10 salario: 1\n",
            "Insira o 11 salario: 1\n",
            "Insira o 12 salario: 1\n",
            "A soma dos salarios é 11.0\n"
          ]
        }
      ]
    },
    {
      "cell_type": "markdown",
      "source": [
        "Exercício 12 – Média de Notas\n",
        "\n",
        "Objetivo:\n",
        "\n",
        "Ler uma lista de notas.\n",
        "\n",
        "Calcular e exibir a média de todas as notas.\n",
        "\n",
        "Exemplo:\n",
        "\n",
        "Entrada:\n",
        "\n",
        "6\n",
        "\n",
        "9.0\n",
        "\n",
        "7.0\n",
        "\n",
        "7.5\n",
        "\n",
        "6.5\n",
        "\n",
        "8.0\n",
        "\n",
        "5.9\n",
        "\n",
        "Saída:\n",
        "\n",
        "7.316666666666667"
      ],
      "metadata": {
        "id": "I7tY5xKSCxbX"
      }
    },
    {
      "cell_type": "code",
      "source": [
        "soma = 0\n",
        "l = []\n",
        "\n",
        "while True:\n",
        "  x = input(f\"Insira o {i+1}º salario, insira algo diferente de um numero para sair: \")\n",
        "\n",
        "  if not(x.isnumeric()):\n",
        "    break\n",
        "  x = float(x)\n",
        "  if x > 0:\n",
        "    l.append(x)\n",
        "  else:\n",
        "    print(\"Precisa inserir um salario positivo\")\n",
        "\n",
        "for i in l:\n",
        "  soma += i\n",
        "\n",
        "print(f\"A media das notas é {soma/len(l)}\")\n",
        ""
      ],
      "metadata": {
        "id": "lcOrRiQYC6un"
      },
      "execution_count": null,
      "outputs": []
    },
    {
      "cell_type": "markdown",
      "source": [
        "Exercício 13 – Contagem de Notas Acima e Abaixo da\n",
        "Média\n",
        "\n",
        "Objetivo:\n",
        "\n",
        "Ler uma lista de notas.\n",
        "\n",
        "Contar quantas notas alcançaram (≥ 7.0) e quantas não alcançaram a média.\n",
        "\n",
        "Exemplo 1:\n",
        "\n",
        "Entrada:\n",
        "\n",
        "6\n",
        "\n",
        "9.0, 7.0, 7.5, 6.5, 8.0, 5.9\n",
        "\n",
        "Saída:\n",
        "\n",
        "Alcançaram a média: 4\n",
        "\n",
        "Não alcançaram a média: 2\n",
        "\n",
        "Exemplo 2:\n",
        "\n",
        "Entrada:\n",
        "\n",
        "7\n",
        "\n",
        "10, 9.5, 6.9, 7.0, 5.0, 6.5, 6.0\n",
        "\n",
        "Saída:\n",
        "\n",
        "Alcançaram a média: 3\n",
        "\n",
        "Não alcançaram: 4"
      ],
      "metadata": {
        "id": "CdTiIbFjC1zK"
      }
    },
    {
      "cell_type": "code",
      "source": [
        "c_media = []\n",
        "s_media = []\n",
        "\n",
        "\n",
        "q = 0\n",
        "\n",
        "while True:\n",
        "  q = int(input(\"Insira quantas notas quer calcular: \"))\n",
        "  if q <= 0:\n",
        "    print(\"Insira um numero maior que zero\")\n",
        "\n",
        "  else:\n",
        "    break\n",
        "y = 0\n",
        "while y <q:\n",
        "  x = input(\"Insira uma nota entre 0 e 10 (insira uma letra para sair): \")\n",
        "  if not(x.isnumeric()):\n",
        "    print(\"Valor invalido\")\n",
        "    continue\n",
        "  x = float(x)\n",
        "  if x<=10 and x>=0:\n",
        "    if x >=7:\n",
        "      c_media.append(x)\n",
        "      y+=1\n",
        "    else:\n",
        "      s_media.append(x)\n",
        "      y+=1\n",
        "  else:\n",
        "    print(\"Numero invalido\")\n",
        "\n",
        "for i in range(len(c_media)):\n",
        "  c_media[i] = str(c_media[i]).replace('.',',')\n",
        "for i in range(len(s_media)):\n",
        "  s_media[i] = str(s_media[i]).replace('.',',')\n",
        "\n",
        "print(f\"Notas com media {len(c_media)}\")\n",
        "print(f\"Notas sem media {len(s_media)}\")\n"
      ],
      "metadata": {
        "colab": {
          "base_uri": "https://localhost:8080/"
        },
        "id": "ao--zr1PDqte",
        "outputId": "802b3529-e201-484c-fcad-82d49e8a1d2e"
      },
      "execution_count": 44,
      "outputs": [
        {
          "output_type": "stream",
          "name": "stdout",
          "text": [
            "Insira quantas notas quer calcular: 8\n",
            "Insira uma nota entre 0 e 10 (insira uma letra para sair): 4\n",
            "Insira uma nota entre 0 e 10 (insira uma letra para sair): 9\n",
            "Insira uma nota entre 0 e 10 (insira uma letra para sair): 51\n",
            "Numero invalido\n",
            "Insira uma nota entre 0 e 10 (insira uma letra para sair): 0\n",
            "Insira uma nota entre 0 e 10 (insira uma letra para sair): 5\n",
            "Insira uma nota entre 0 e 10 (insira uma letra para sair): 6\n",
            "Insira uma nota entre 0 e 10 (insira uma letra para sair): 8\n",
            "Insira uma nota entre 0 e 10 (insira uma letra para sair): 9\n",
            "Insira uma nota entre 0 e 10 (insira uma letra para sair): 7\n",
            "Notas com media 4\n",
            "Notas sem media 4\n"
          ]
        }
      ]
    },
    {
      "cell_type": "markdown",
      "source": [
        "Exercício 14 – Classificação de Idades\n",
        "Objetivo:\n",
        "Ler uma lista de idades.\n",
        "\n",
        "Contar quantas idades são de:\n",
        "\n",
        "Crianças (até 11 anos)\n",
        "\n",
        "Adolescentes (12 a 17 anos)\n",
        "\n",
        "Adultos (18 anos ou mais)\n",
        "\n",
        "\n",
        "\n",
        "Exemplo:\n",
        "\n",
        "Entrada:\n",
        "\n",
        "10\n",
        "\n",
        "45, 17, 34, 21, 15, 4, 11, 29, 12, 21\n",
        "\n",
        "Saída:\n",
        "\n",
        "Crianças: 2\n",
        "\n",
        "Adolescentes: 3\n",
        "\n",
        "Adultos: 5"
      ],
      "metadata": {
        "id": "RtRZwefpGzSf"
      }
    },
    {
      "cell_type": "code",
      "source": [
        "crian = []\n",
        "adole = []\n",
        "adult = []\n",
        "\n",
        "\n",
        "q = 0\n",
        "\n",
        "while True:\n",
        "  x = input(\"Insira uma idade entre 0 e 100 (insira uma letra para sair): \")\n",
        "  if not(x.isnumeric()):\n",
        "    break\n",
        "  x = int(x)\n",
        "  if x<=100 and x>=0:\n",
        "    if x <12:\n",
        "      crian.append(x)\n",
        "    elif x < 18:\n",
        "      adole.append(x)\n",
        "    else:\n",
        "      adult.append(x)\n",
        "\n",
        "  else:\n",
        "    print(\"Numero invalido\")\n",
        "\n",
        "print(f\"Crianças {len(crian)}\")\n",
        "print(f\"Adolescentes {len(adole)}\")\n",
        "print(f\"Adultos {len(adult)}\")\n"
      ],
      "metadata": {
        "colab": {
          "base_uri": "https://localhost:8080/"
        },
        "id": "WNdke7WHG-5Q",
        "outputId": "fc5152f7-332c-4ba9-d7bb-fd6759d48277"
      },
      "execution_count": 54,
      "outputs": [
        {
          "output_type": "stream",
          "name": "stdout",
          "text": [
            "Insira uma idade entre 0 e 100 (insira uma letra para sair): 12\n",
            "Insira uma idade entre 0 e 100 (insira uma letra para sair): 53\n",
            "Insira uma idade entre 0 e 100 (insira uma letra para sair): 62\n",
            "Insira uma idade entre 0 e 100 (insira uma letra para sair): 843\n",
            "Numero invalido\n",
            "Insira uma idade entre 0 e 100 (insira uma letra para sair): 51\n",
            "Insira uma idade entre 0 e 100 (insira uma letra para sair): 62\n",
            "Insira uma idade entre 0 e 100 (insira uma letra para sair): 12\n",
            "Insira uma idade entre 0 e 100 (insira uma letra para sair): 12\n",
            "Insira uma idade entre 0 e 100 (insira uma letra para sair): 12\n",
            "Insira uma idade entre 0 e 100 (insira uma letra para sair): 16\n",
            "Insira uma idade entre 0 e 100 (insira uma letra para sair): 16\n",
            "Insira uma idade entre 0 e 100 (insira uma letra para sair): 16\n",
            "Insira uma idade entre 0 e 100 (insira uma letra para sair): \n",
            "Crianças 4\n",
            "Adolescentes 3\n",
            "Adultos 4\n"
          ]
        }
      ]
    }
  ]
}