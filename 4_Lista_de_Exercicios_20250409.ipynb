{
  "nbformat": 4,
  "nbformat_minor": 0,
  "metadata": {
    "colab": {
      "provenance": [],
      "authorship_tag": "ABX9TyPlTSF8AffYQIn/lkLjihoc",
      "include_colab_link": true
    },
    "kernelspec": {
      "name": "python3",
      "display_name": "Python 3"
    },
    "language_info": {
      "name": "python"
    }
  },
  "cells": [
    {
      "cell_type": "markdown",
      "metadata": {
        "id": "view-in-github",
        "colab_type": "text"
      },
      "source": [
        "<a href=\"https://colab.research.google.com/github/FelipePFerreira13/PensamentoComputacional/blob/main/4_Lista_de_Exercicios_20250409.ipynb\" target=\"_parent\"><img src=\"https://colab.research.google.com/assets/colab-badge.svg\" alt=\"Open In Colab\"/></a>"
      ]
    },
    {
      "cell_type": "code",
      "execution_count": null,
      "metadata": {
        "id": "CWWeWfz5C0VR"
      },
      "outputs": [],
      "source": [
        "import random"
      ]
    },
    {
      "cell_type": "markdown",
      "source": [
        "1. Faça um algoritmo em Python que leia a nota de vários alunos de uma turma. Ao final, deve ser\n",
        "escrita a média geral da turma. A leitura das médias somente encerra quando uma nota negativa\n",
        "for digitada."
      ],
      "metadata": {
        "id": "b2KvaGLaC4QL"
      }
    },
    {
      "cell_type": "code",
      "source": [
        "t = 0\n",
        "i = 0\n",
        "while True:\n",
        "  x = float(input(f\"Insira a nota do {i+1}º aluno: \"))\n",
        "  if x < 0:\n",
        "    break\n",
        "  elif x<=10:\n",
        "    t+=x\n",
        "    i+=1\n",
        "  else:\n",
        "    print(\"insira um numero entre 0 e 10\")\n",
        "\n",
        "print(f\"A média dos {i} alunos é {round(t/i,2)}\")"
      ],
      "metadata": {
        "colab": {
          "base_uri": "https://localhost:8080/"
        },
        "id": "hVvfAglvC4An",
        "outputId": "bf91ee62-7115-45ce-c037-45324d0049fd"
      },
      "execution_count": null,
      "outputs": [
        {
          "output_type": "stream",
          "name": "stdout",
          "text": [
            "Insira a nota do 1º aluno: 4\n",
            "Insira a nota do 2º aluno: 5\n",
            "Insira a nota do 3º aluno: 6\n",
            "Insira a nota do 4º aluno: -1\n",
            "A média dos 3 alunos é 5.0\n"
          ]
        }
      ]
    },
    {
      "cell_type": "markdown",
      "source": [
        "2. Faça um programa em Python para repetir a leitura de um número enquanto o valor fornecido for\n",
        "diferente de 0. Para cada número fornecido, escrever se ele é NEGATIVO ou POSITIVO. Quando\n",
        "o número 0 for fornecido o algoritmo deve encerrar informando o usuário."
      ],
      "metadata": {
        "id": "lNVjKuvZC6-Z"
      }
    },
    {
      "cell_type": "code",
      "source": [
        "# Lista para teste:\n",
        "l=[]\n",
        "for i in range(20):\n",
        "  l.append(random.randint(-10,10))"
      ],
      "metadata": {
        "id": "X-HHq3eZG_F-"
      },
      "execution_count": null,
      "outputs": []
    },
    {
      "cell_type": "code",
      "source": [
        "# for i in l:\n",
        "#   x = i\n",
        "#   print(x)\n",
        "while True:\n",
        "  x = float(input(\"Insira um numero: \"))\n",
        "  if x == 0:\n",
        "    break\n",
        "  else:\n",
        "    if x > 0:\n",
        "      print(\"O numero é positivo\")\n",
        "    else:\n",
        "      print(\"O numero é negativo\")"
      ],
      "metadata": {
        "colab": {
          "base_uri": "https://localhost:8080/"
        },
        "id": "IYl0Ts7OC6nY",
        "outputId": "bd6f4ef9-7c7d-4ec6-d27a-2fc02a65a737"
      },
      "execution_count": null,
      "outputs": [
        {
          "output_type": "stream",
          "name": "stdout",
          "text": [
            "Insira um numero: 1\n",
            "1.0\n",
            "O numero é positivo\n",
            "Insira um numero: 2\n",
            "2.0\n",
            "O numero é positivo\n",
            "Insira um numero: 5\n",
            "5.0\n",
            "O numero é positivo\n",
            "Insira um numero: 4\n",
            "4.0\n",
            "O numero é positivo\n",
            "Insira um numero: -165\n",
            "-165.0\n",
            "O numero é negativo\n",
            "Insira um numero: 0\n",
            "0.0\n"
          ]
        }
      ]
    },
    {
      "cell_type": "markdown",
      "source": [
        "3. Faça um programa em Python para ler uma quantidade indeterminada de valores inteiros. Para\n",
        "cada valor fornecido apresentar uma mensagem que indique se o valor fornecido é PAR ou\n",
        "ÍMPAR. O programa será encerrado imediatamente após a leitura de um valor NULO (zero) ou\n",
        "NEGATIVO."
      ],
      "metadata": {
        "id": "Fui1N4BNDFO9"
      }
    },
    {
      "cell_type": "code",
      "source": [
        "while True:\n",
        "  x = int(input(\"Insira um numero: \"))\n",
        "  if x > 0:\n",
        "    if x%2 == 0:\n",
        "      print(\"O numero é par\")\n",
        "    else:\n",
        "      print(\"O numero é impar\")\n",
        "  else:\n",
        "    break"
      ],
      "metadata": {
        "id": "B2OgMN5ZDEqy"
      },
      "execution_count": null,
      "outputs": []
    },
    {
      "cell_type": "markdown",
      "source": [
        "4. Sabe-se que não existe divisão por zero, para isso faça um programa que leia dois valores inteiros\n",
        "e escreva o resultado da divisão do primeiro pelo segundo. Se o segundo valor informado for\n",
        "ZERO, deve ser impressa uma mensagem de VALOR INVÁLIDO e uma nova leitura do segundo\n",
        "valor deve ser realizada. Ao final do programa deve ser impressa a seguinte mensagem: VOCÊ\n",
        "DESEJA OUTRO CÁLCULO (S/N). Se a resposta for S o programa deverá retornar ao começo,\n",
        "caso contrário deverá encerrar."
      ],
      "metadata": {
        "id": "kT-t9tilDH2m"
      }
    },
    {
      "cell_type": "code",
      "source": [
        "while True:\n",
        "  x = float(input(\"Insira um numero: \"))\n",
        "  while True:\n",
        "    y = float(input(\"Insira outro numero: \"))\n",
        "    if y == 0:\n",
        "      print(\"Valor invalido\\nO numero informado não pode ser zero\")\n",
        "    else:\n",
        "      break\n",
        "  print(f\"O resultado da divisão é: {x/y}\")\n",
        "\n",
        "  x = input(\"VOCÊ DESEJA OUTRO CÁLCULO? (S/N)\")\n",
        "  if x == 'N':\n",
        "    break"
      ],
      "metadata": {
        "id": "1xbNbCAPDHSL"
      },
      "execution_count": null,
      "outputs": []
    },
    {
      "cell_type": "markdown",
      "source": [
        "5. Faça um programa em Python que verifique a validade de uma senha fornecida pelo usuário. A\n",
        "senha válida é o número 1234.\n",
        "\n",
        "OBS: Se a senha informada pelo usuário for inválida, a mensagem \"ACESSO NEGADO\" deve\n",
        "ser impressa e repetida a solicitação de uma nova senha até que ela seja válida. Caso\n",
        "contrário deve ser impressa a mensagem \"ACESSO PERMITIDO\" junto com um número\n",
        "que representa quantas vezes a senha foi informada."
      ],
      "metadata": {
        "id": "DFV72Iw2DLAT"
      }
    },
    {
      "cell_type": "code",
      "source": [
        "i = 0\n",
        "sc = '1234'\n",
        "\n",
        "while True:\n",
        "  s = input(\"Insira a senha: \")\n",
        "  i+=1\n",
        "  if s == sc:\n",
        "    print(f\"Acesso Permitido após {i} tentativas\")\n",
        "    break\n",
        "  else:\n",
        "    print(\"Acesso negado\")"
      ],
      "metadata": {
        "id": "M1u32gYUDKTS"
      },
      "execution_count": null,
      "outputs": []
    },
    {
      "cell_type": "markdown",
      "source": [
        "6. Faça um programa em Python que verifique a validade de uma senha fornecida pelo usuário. A\n",
        "senha válida é o número 1234. Se a senha informada pelo usuário for válida a mensagem\n",
        "\"ACESSO PERMITIDO\" deve ser informada. O usuário não terá acesso ao sistema se errar a\n",
        "senha três vezes, neste caso a mensagem \"ACESSO NEGADO\" deve ser informada e a cada vez\n",
        "que o usuário errar a senha, dentro do limite, a mensagem informada será \"SENHA ERRADA,\n",
        "TENTATIVA X DE 3\", sendo o X o número da tentativa."
      ],
      "metadata": {
        "id": "X9YRk8cWDQBP"
      }
    },
    {
      "cell_type": "code",
      "source": [
        "i = 0\n",
        "sc = '1234'\n",
        "\n",
        "for i in range(3):\n",
        "  s = input(\"Insira a senha: \")\n",
        "  if s == sc:\n",
        "    print(f\"Acesso Permitido após {i} tentativas\")\n",
        "    break\n",
        "  else:\n",
        "    print(f\"Senha errada, tentativa {i+1} de 3\")\n",
        "else:\n",
        "  print(\"Acesso negado\\nLimite de tentativas atingido. Login bloqueado!\")\n"
      ],
      "metadata": {
        "colab": {
          "base_uri": "https://localhost:8080/"
        },
        "id": "1iRiXK2kDPDD",
        "outputId": "d3ef3a86-64d8-4684-ae59-393bc4e0a891"
      },
      "execution_count": null,
      "outputs": [
        {
          "output_type": "stream",
          "name": "stdout",
          "text": [
            "Insira a senha: 123\n",
            "Senha errada, tentativa 1 de 3\n",
            "Insira a senha: 563\n",
            "Senha errada, tentativa 2 de 3\n",
            "Insira a senha: 65\n",
            "Senha errada, tentativa 3 de 3\n",
            "Acesso negado\n",
            "Limite de tentativas atingido. Login bloqueado!\n"
          ]
        }
      ]
    }
  ]
}