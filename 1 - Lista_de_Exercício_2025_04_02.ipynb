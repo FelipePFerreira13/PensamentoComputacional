{
  "nbformat": 4,
  "nbformat_minor": 0,
  "metadata": {
    "colab": {
      "provenance": [],
      "authorship_tag": "ABX9TyMLa8bQHAg/DJI8pQO+c1qE"
    },
    "kernelspec": {
      "name": "python3",
      "display_name": "Python 3"
    },
    "language_info": {
      "name": "python"
    }
  },
  "cells": [
    {
      "cell_type": "markdown",
      "source": [
        "Importações para as atividades"
      ],
      "metadata": {
        "id": "HcY-j8D9-aUQ"
      }
    },
    {
      "cell_type": "code",
      "source": [
        "import math\n",
        "\n"
      ],
      "metadata": {
        "id": "FAy5dMhy-ZPS"
      },
      "execution_count": null,
      "outputs": []
    },
    {
      "cell_type": "markdown",
      "source": [
        "1. Faça em Python um algoritmo que leia um número inteiro qualquer. O algoritmo deve calcular e escrever o quadrado, a raiz quadrada, e a divisão do quadrado pela raiz quadrada do número lido."
      ],
      "metadata": {
        "id": "0O62QlCh8irG"
      }
    },
    {
      "cell_type": "code",
      "execution_count": null,
      "metadata": {
        "colab": {
          "base_uri": "https://localhost:8080/"
        },
        "id": "Kv9Mhq078HJd",
        "outputId": "0afe2a71-c692-4152-c952-fe149826871b"
      },
      "outputs": [
        {
          "output_type": "stream",
          "name": "stdout",
          "text": [
            "Insira um número inteiro: 5\n",
            "O quadrado do número é 25\n",
            "A raiz quadrada do número é 2.23606797749979\n",
            "A divisão do quadrado pela raiz quadrada 11.180339887498947\n"
          ]
        }
      ],
      "source": [
        "# Pede um numero inteiro para o usuario\n",
        "n = int(input('Insira um número inteiro: '))\n",
        "# ** eh usada para fazer a potencia do numero\n",
        "print(\"O quadrado do número é\",n**2)\n",
        "# Para fazer a raiz quadrada, precisa importar a biblioteca math e usar a funcao sqrt()\n",
        "print(\"A raiz quadrada do número é\",math.sqrt(n))\n",
        "print(\"A divisão do quadrado pela raiz quadrada\",(n**2)/math.sqrt(n))"
      ]
    },
    {
      "cell_type": "markdown",
      "source": [
        "2. Faça em Python um algoritmo que calcule e escreva o preço final de um computador, sendo fornecido o preço de fábrica. O preço final do computador é calculado com base nos adicionais de: 30 % de imposto e 10 % de revenda sobre o preço de fábrica."
      ],
      "metadata": {
        "id": "mhH_6tES9F9X"
      }
    },
    {
      "cell_type": "code",
      "source": [
        "n = float(input(\"Informe o preço de fabrica do item: \"))\n",
        "print(\"O valor do computador é\",round(n*1.3*1.1,2))"
      ],
      "metadata": {
        "colab": {
          "base_uri": "https://localhost:8080/"
        },
        "id": "JPGWl33I9KV_",
        "outputId": "f6dcd643-0b4d-4515-ae6e-38d78e9c486e"
      },
      "execution_count": null,
      "outputs": [
        {
          "output_type": "stream",
          "name": "stdout",
          "text": [
            "Informe o preço de fabrica do item: 5000\n",
            "O valor do computador é 7150.0\n"
          ]
        }
      ]
    },
    {
      "cell_type": "markdown",
      "source": [
        "3. Faça um algoritmo em Python que leia três números inteiros e calcule a sua média. Ao final, o algoritmo deve escrever os números lidos e o resultado da média."
      ],
      "metadata": {
        "id": "SYazNhq-9Kz8"
      }
    },
    {
      "cell_type": "code",
      "source": [
        "# Pedem tres numeros decimais para o usuario\n",
        "n1 = float(input(\"Insira o primeiro numero: \"))\n",
        "n2 = float(input(\"Insira o segundo numero: \"))\n",
        "n3 = float(input(\"Insira o terceiro numero: \"))\n",
        "# Calcula a media\n",
        "print(\"A média dos números é\",(n1+n2+n3)/3)"
      ],
      "metadata": {
        "colab": {
          "base_uri": "https://localhost:8080/"
        },
        "id": "_JyvlqzF9ONQ",
        "outputId": "9a9d6e2d-8838-49f8-f999-c5d7a7f0e14c"
      },
      "execution_count": null,
      "outputs": [
        {
          "output_type": "stream",
          "name": "stdout",
          "text": [
            "Insira o primeiro numero: 2542\n",
            "Insira o segundo numero: 155\n",
            "Insira o terceiro numero: 523515\n",
            "A média dos números é 175404.0\n"
          ]
        }
      ]
    },
    {
      "cell_type": "markdown",
      "source": [
        "4. Fazer um algoritmo em Python que calcule o número de litros de combustível gastos em uma viagem, sabendo-se que o carro faz 12 km com um litro. Deverão ser lidos o tempo gasto na viagem e a velocidade média. Aplicar as seguintes fórmulas:\n",
        "- Distância = tempo gasto x velocidade média\n",
        "- litros gastos = distância / 12\n"
      ],
      "metadata": {
        "id": "v69JxNzx9OnA"
      }
    },
    {
      "cell_type": "code",
      "source": [
        "# Pede o valor da velocidade e das horas, ambos decimais, para o usuario\n",
        "v = float(input(\"Insira a velocidade média da viagem: \"))\n",
        "h = float(input(\"Insira duração da viagem: \"))\n",
        "# Executa o calculo da gasolina gasta e mostra o resultado para o usuario\n",
        "print(\"Foram gastos\",round(v*h/12,2), \"litros\")"
      ],
      "metadata": {
        "colab": {
          "base_uri": "https://localhost:8080/"
        },
        "id": "WjJ7n5879UNJ",
        "outputId": "b6e37573-a433-4797-a7a2-4abe6e44a23f"
      },
      "execution_count": null,
      "outputs": [
        {
          "output_type": "stream",
          "name": "stdout",
          "text": [
            "Insira a velocidade média da viagem: 80\n",
            "Insira duração da viagem: 5\n",
            "Foram gastos 33.33 litros\n"
          ]
        }
      ]
    },
    {
      "cell_type": "markdown",
      "source": [
        "5. Faça em Python um algoritmo que leia dois números inteiros (x e y), e calcule o quociente e o resto da divisão de x por y e escreva os resultados."
      ],
      "metadata": {
        "id": "hF_s7tQv9ReA"
      }
    },
    {
      "cell_type": "code",
      "source": [
        "# Pede dois numeros inteiros para o usuario\n",
        "x= int(input(\"Insira um numero inteiro: \"))\n",
        "y= int(input(\"Insira um numero inteiro: \"))\n",
        "# Mostra o quoeficiente e o resto da divisao para o usuario\n",
        "print(\"O quociente da divisão é\",x//y)\n",
        "print(\"O resto da divisão é\",x%y)"
      ],
      "metadata": {
        "colab": {
          "base_uri": "https://localhost:8080/"
        },
        "id": "4uPpR_PO9TSV",
        "outputId": "79e11c8e-1603-45d5-a243-68bf26839359"
      },
      "execution_count": null,
      "outputs": [
        {
          "output_type": "stream",
          "name": "stdout",
          "text": [
            "Insira um numero inteiro: 5\n",
            "Insira um numero inteiro: 2\n",
            "O quociente da divisão é 2\n",
            "O resto da divisão é 1\n"
          ]
        }
      ]
    },
    {
      "cell_type": "markdown",
      "source": [
        "6. Escreva em python um algoritmo que leia três números reais (a, b, c), e calcule a média aritmética. Após os cálculos, os resultados deverão ser escritos."
      ],
      "metadata": {
        "id": "8Sp-jN1f9Tud"
      }
    },
    {
      "cell_type": "code",
      "source": [
        "# Pede tres numeros decimais para o usuario\n",
        "a = float(input(\"Insira o primeiro número: \"))\n",
        "b = float(input(\"Insira o segundo número: \"))\n",
        "c = float(input(\"Insira o terceiro número: \"))\n",
        "# Mostra a media para o usuario\n",
        "print(\"A media de\",a,\",\",b,\"e\",c,\"é\",(a+b+c)/3)"
      ],
      "metadata": {
        "colab": {
          "base_uri": "https://localhost:8080/"
        },
        "id": "-m_ax7h19W_t",
        "outputId": "5474d111-8f60-4d9a-c403-eaa93cfca3b2"
      },
      "execution_count": null,
      "outputs": [
        {
          "output_type": "stream",
          "name": "stdout",
          "text": [
            "Insira o primeiro número: 1\n",
            "Insira o segundo número: 2\n",
            "Insira o terceiro número: 3\n",
            "A media de 1.0 , 2.0 e 3.0 é 2.0\n"
          ]
        }
      ]
    },
    {
      "cell_type": "markdown",
      "source": [
        "7. Uma loja de equipamentos de informática resolveu incentivar os seus funcionários a venderem no mês março. Para cada produto vendido, a loja dará uma bonificação de 1%, sobre o salário do funcionário. Desta forma, o funcionário que vender 10 produtos, terá um acréscimo de 10% em seu salário. Faça um algoritmo em Python que leia o código, o nome e o salário fixo do funcionário, além do número de produtos vendidos por ele no mês, e calcule o salário final do funcionário. Por fim, o algoritmo deve escrever o código e o nome do funcionário, juntamente com o seu salário final.\n"
      ],
      "metadata": {
        "id": "6JCDTkqV9WdG"
      }
    },
    {
      "cell_type": "code",
      "source": [
        "# Pede o codigo e o nome do vendedor para o usuario\n",
        "c = input('Insira o código do vendedor: ')\n",
        "n = input('Insira o nome do vendedor: ')\n",
        "# Pede o salario base para o usuario\n",
        "s = float(input('Insira o salário base do vendedor: R$ '))\n",
        "# Pede quantos itens foram vendidos para o usuario\n",
        "i = int(input('Insira quantos produtos foram vendidos: '))\n",
        "\n",
        "# Calcula o salario final do vendedor para o usuario\n",
        "print(\"O vendedor\",n,\", código\",c,\"tem o salário final de R$\"+ str(round(s*(1+i*0.01),2)))"
      ],
      "metadata": {
        "colab": {
          "base_uri": "https://localhost:8080/"
        },
        "id": "_3wMu34w9Xr9",
        "outputId": "d30282ee-8fcc-419c-eb5c-bdad3cad8783"
      },
      "execution_count": null,
      "outputs": [
        {
          "output_type": "stream",
          "name": "stdout",
          "text": [
            "Insira o código do vendedor: 12\n",
            "Insira o nome do vendedor: t\n",
            "Insira o salário base do vendedor: R$ 1200\n",
            "Insira quantos produtos foram vendidos: 10\n",
            "O vendedor t , código 12 tem o salário final de R$1320.0\n"
          ]
        }
      ]
    },
    {
      "cell_type": "markdown",
      "source": [
        "8. Construa um algoritmo em Python que calcule a quantidade de latas de tintas necessárias e o custo para pintar tanques cilíndricos de combustível, onde são fornecidos a altura e o raio deste cilindro. Sabendo que:\n",
        "\n",
        "● a lata de tinta custa R$ 150,00\n",
        "\n",
        "● cada lata contém 5 litros;\n",
        "\n",
        "● cada litro de tinta pinta 3 metros quadrados;\n",
        "\n",
        "● a área do total cilindro é dada por área da base + área lateral;\n",
        "\n",
        "● a área da base do cilindro é dada π*raio2\n",
        "\n",
        "● a área da lateral é 2*π*raio*altura.\n",
        "\n",
        "● Lembrando que π (pi) vale 3,14.\n"
      ],
      "metadata": {
        "id": "Ysz8bJKK9YDp"
      }
    },
    {
      "cell_type": "code",
      "source": [
        "# Pede a altura e o raio do cilindro para o usuario e converte os valores do padrao brasileiro para o americano\n",
        "altura = float(input(\"Insira a altura do Cilindro: \").replace('.','').replace(',','.'))\n",
        "raio = float(input(\"Insira o raio do Cilindro: \").replace('.','').replace(',','.'))\n",
        "# Define quantos litros o cilindro usa \n",
        "qtdL = (raio * 3.14 * 2)*(altura+1)\n",
        "# Verifica se sobra algum restos dos litro\n",
        "if qtdL%5 !=0:\n",
        "  print(\"Serão necessários\",qtdL,\"Litros de tinta. Será necessário comprar\",int((qtdL//5)+1),\"barris, com o custo de\",((qtdL//5)+1)*150,\"reais\")\n",
        "else:\n",
        "  print(\"Serão necessários\",qtdL,\"Litros de tinta. Será necessário comprar\",int(qtdL//5),\"barris, com o custo de\",(qtdL//5)*150,\"reais\")"
      ],
      "metadata": {
        "id": "lvYfUJro9vAn",
        "colab": {
          "base_uri": "https://localhost:8080/"
        },
        "outputId": "22ef4374-ace4-441b-a9c7-62760ce9a985"
      },
      "execution_count": null,
      "outputs": [
        {
          "output_type": "stream",
          "name": "stdout",
          "text": [
            "Insira a altura do Cilindro: 15.000,5\n",
            "Insira o raio do Cilindro: 5.0,125\n",
            "Serão necessários 4722247.1775 Litros de tinta. Será necessário comprar 944450 barris, com o custo de 141667500.0 reais\n"
          ]
        }
      ]
    },
    {
      "cell_type": "markdown",
      "source": [
        "9. Elabore um algoritmo em Python para calcular e escrever o preço final de um computador, sendo fornecido o preço de fábrica. O preço final do computador é calculado com base nos adicionais 45 % de imposto e 28 % de revenda sobre o preço de fábrica.\n"
      ],
      "metadata": {
        "id": "3sqWxEDf9hye"
      }
    },
    {
      "cell_type": "code",
      "source": [
        "# Pede o preco base para o usuario\n",
        "prcB = float(input(\"Insira o preço base do computador: \"))\n",
        "\n",
        "# Calcula o preco do computador \n",
        "print('O preço de venda é R$'+str(prcB*1.45*1.28))"
      ],
      "metadata": {
        "id": "ZPDwa4B09vtX",
        "colab": {
          "base_uri": "https://localhost:8080/"
        },
        "outputId": "8ea2b4c8-384c-48f3-b097-bc3441da2fe8"
      },
      "execution_count": null,
      "outputs": [
        {
          "output_type": "stream",
          "name": "stdout",
          "text": [
            "Insira o preço base do computador: 10000\n",
            "O preço de venda é R$18560.0\n"
          ]
        }
      ]
    },
    {
      "cell_type": "markdown",
      "source": [
        "10. Uma revendedora de carros usados paga aos seus funcionários vendedores, um salário fixo por mês, mais uma comissão para cada carro vendido. Escreva um algoritmo em Python que leia o número do vendedor, o seu salário fixo, o número de carros por ele vendidos, e o valor que recebe por carro vendido, e calcule o salário mensal do vendedor, escrevendo-o juntamente com o seu número de identificação.\n"
      ],
      "metadata": {
        "id": "lERPAZYO9ls3"
      }
    },
    {
      "cell_type": "code",
      "source": [
        "cod = input(\"Insira seu código: \")\n",
        "sal = float(input(\"Insira seu salario fixo: \"))\n",
        "n = int(input(\"Insira quantos carros foram vendidos: \"))\n",
        "com = float(input(\"Insira quanto é a comissão por carro: \"))\n",
        "print(\"O vendedor código:\",cod,\"receberá: R$\"+str(sal+(com*n)))"
      ],
      "metadata": {
        "id": "5CoeXdUx9sNT",
        "colab": {
          "base_uri": "https://localhost:8080/"
        },
        "outputId": "cbd1e7f9-ab24-404e-a503-3c817dfcac12"
      },
      "execution_count": null,
      "outputs": [
        {
          "output_type": "stream",
          "name": "stdout",
          "text": [
            "Insira seu código: 12\n",
            "Insira seu salario fixo: 1200\n",
            "Insira quantos carros foram vendidos: 5\n",
            "Insira quanto é a comissão por carro: 100\n",
            "O vendedor código: 12 receberá: R$1700.0\n"
          ]
        }
      ]
    },
    {
      "cell_type": "markdown",
      "source": [
        "11. Uma empresa, para emitir a sua folha de pagamento mensal, trabalha com os seguintes dados:\n",
        "\n",
        "Relativos ao Sistema de Pagamentos\n",
        "\n",
        "Valor da Hora Normal = R$ 8,00\n",
        "\n",
        "Valor da Hora Extra = R$ 9,50\n",
        "\n",
        "Valor do Acréscimo por Dependente = RS 2,50\n",
        "\n",
        "Relativos a cada Funcionário\n",
        "\n",
        "Número de Identificação\n",
        "\n",
        "Nome\n",
        "\n",
        "Número de horas normais trabalhadas\n",
        "\n",
        "Número de horas extras trabalhadas\n",
        "\n",
        "Número de dependentes\n",
        "\n",
        "O cálculo do salário de cada funcionário é feito em 3 etapas:\n",
        "\n",
        "Etapa 1 : Cálculo do Salário Bruto\n",
        "\n",
        "SALARIO BRUTO = Valor Total de Horas Normais + Valor Total de Horas Extras +\n",
        "\n",
        "Valor Total de Dependentes\n",
        "\n",
        "Etapa 2 : Descontos\n",
        "\n",
        "Todos os funcionários são isentos de imposto de renda, e descontam 5% do\n",
        "\n",
        "salário bruto para o INSS. Etapa 3 : Salário Líquido\n",
        "\n",
        "SALARIO LÍQUIDO = SALARIO BRUTO - DESCONTO\n",
        "\n",
        "Escrever um algoritmo em Python que leia os dados referentes ao funcionário, calcule e escreva o salário líquido do funcionário da empresa. Obs.: Além do salário líquido, escreva o número de identificação e o nome do funcionário.\n"
      ],
      "metadata": {
        "id": "lK4GVwoj9slO"
      }
    },
    {
      "cell_type": "code",
      "source": [
        "ni = input(\"Insira o numero de identificação: \")\n",
        "nome = input(\"Insira o seu nome: \")\n",
        "nh = int(input(\"Insira quantas horas normais foram trabalhadas: \"))\n",
        "ne = int(input(\"Insira quantas horas extras foram trabalhadas: \"))\n",
        "nd = int(input(\"Insira o numero de dependentes: \"))\n",
        "sal = 0.95 *(nh*8+ne*9.5+nd*2.5)\n",
        "print(\"O funcionário número\",ni+\",\",nome,\"receberá o sálario líquido de R$\"+str(sal))"
      ],
      "metadata": {
        "id": "Lp2rkiaR9wbb",
        "colab": {
          "base_uri": "https://localhost:8080/"
        },
        "outputId": "837634b5-8bcf-4a9f-c5a0-9ef9d5b3f130"
      },
      "execution_count": null,
      "outputs": [
        {
          "output_type": "stream",
          "name": "stdout",
          "text": [
            "Insira o numero de identificação: 5\n",
            "Insira o seu nome: Felipe\n",
            "Insira quantas horas normais foram trabalhadas: 200\n",
            "Insira quantas horas extras foram trabalhadas: 0\n",
            "Insira o numero de dependentes: 0\n",
            "O funcionário número 5, Felipe receberá o sálario líquido de R$1520.0\n"
          ]
        }
      ]
    }
  ]
}
