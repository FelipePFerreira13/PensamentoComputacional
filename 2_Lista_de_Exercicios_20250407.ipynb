{
  "nbformat": 4,
  "nbformat_minor": 0,
  "metadata": {
    "colab": {
      "provenance": [],
      "authorship_tag": "ABX9TyPZID1Sa+FzGFMTlrfjEGOB"
    },
    "kernelspec": {
      "name": "python3",
      "display_name": "Python 3"
    },
    "language_info": {
      "name": "python"
    }
  },
  "cells": [
    {
      "cell_type": "code",
      "source": [
        "import math\n",
        "import random"
      ],
      "metadata": {
        "id": "PNZznsC4skaT"
      },
      "execution_count": null,
      "outputs": []
    },
    {
      "cell_type": "markdown",
      "source": [
        "1. Faça um algoritmo em Python para ler dois valores numéricos e apresentar a diferença do maior pelo menor.\n"
      ],
      "metadata": {
        "id": "XV3VCjVFsj85"
      }
    },
    {
      "cell_type": "code",
      "execution_count": null,
      "metadata": {
        "id": "2OSpk7SjshRy"
      },
      "outputs": [],
      "source": [
        "n1 = float(input(\"Insira um numero: \"))\n",
        "n2 = float(input(\"Insira um numero: \"))\n",
        "\n",
        "print(\"A diferença é\",abs(n1-n2))"
      ]
    },
    {
      "cell_type": "markdown",
      "source": [
        "2. Faça um algoritmo em Python para ler dois números. Se os números forem iguais escrever a mensagem: \"NÚMEROS IGUAIS\" e encerrar a execução; caso contrário, escrever o de maior valor.\n"
      ],
      "metadata": {
        "id": "ChMiiXEesvju"
      }
    },
    {
      "cell_type": "code",
      "source": [
        "n1 = float(input(\"Insira um numero: \"))\n",
        "n2 = float(input(\"Insira um numero: \"))\n",
        "\n",
        "if n1==n2:\n",
        "  print(\"NÚMEROS IGUAIS\")\n",
        "else:\n",
        "  print(\"O numero maior é\",max([n1,n2]))"
      ],
      "metadata": {
        "colab": {
          "base_uri": "https://localhost:8080/"
        },
        "id": "7TxhIu5osvLZ",
        "outputId": "2bd0d572-4e3c-4794-ab2e-bdbff3ca0033"
      },
      "execution_count": null,
      "outputs": [
        {
          "output_type": "stream",
          "name": "stdout",
          "text": [
            "Insira um numero: 1\n",
            "Insira um numero: 1\n",
            "NÚMEROS IGUAIS\n"
          ]
        }
      ]
    },
    {
      "cell_type": "markdown",
      "source": [
        "3. Faça um algoritmo em Python para ler dois valores: NUM1 e NUM2, e se NUM1 for maior que NUM2 executa a soma de NUM1 e NUM2; caso contrário, executa uma subtração."
      ],
      "metadata": {
        "id": "L_TK6mKysxB-"
      }
    },
    {
      "cell_type": "code",
      "source": [
        "n1 = float(input(\"Insira um numero: \"))\n",
        "n2 = float(input(\"Insira um numero: \"))\n",
        "\n",
        "if n1 > n2:\n",
        "  print(n1+n2)\n",
        "else:\n",
        "  print(n1-n2)"
      ],
      "metadata": {
        "colab": {
          "base_uri": "https://localhost:8080/"
        },
        "id": "fRk1KaDvswdh",
        "outputId": "034f5668-e2c5-4c62-ce6c-eb977ebfe7f1"
      },
      "execution_count": null,
      "outputs": [
        {
          "output_type": "stream",
          "name": "stdout",
          "text": [
            "Insira um numero: 10\n",
            "Insira um numero: 10\n",
            "0.0\n"
          ]
        }
      ]
    },
    {
      "cell_type": "markdown",
      "source": [
        "4. O hotel Pica-Pau cobra R\\$ 150,00 a diária e mais uma taxa de serviços. A taxa de serviços é de:\n",
        "\n",
        "● R\\$ 15 por dia, se número de diárias <15\n",
        "\n",
        "● Rs 10 por dia, se número de diárias =15\n",
        "\n",
        "● Rs 5 por dia, se número de diárias >15\n",
        "\n",
        "Faça um algoritmo em Python que lê o número de diárias e calcula o total a ser pago pelo cliente."
      ],
      "metadata": {
        "id": "hVr6ZX9hs1TN"
      }
    },
    {
      "cell_type": "code",
      "source": [
        "d = int(input(\"insira quantas diarias fora pagas\"))\n",
        "if d < 15:\n",
        "  print(165*d)\n",
        "elif d == 15:\n",
        "  print(160*d)\n",
        "else:\n",
        "  print(155*d)"
      ],
      "metadata": {
        "colab": {
          "base_uri": "https://localhost:8080/"
        },
        "id": "57l9C0u1tFIf",
        "outputId": "1e94f80a-58ce-4634-fdeb-c24d1368f496"
      },
      "execution_count": null,
      "outputs": [
        {
          "output_type": "stream",
          "name": "stdout",
          "text": [
            "insira quantas diarias fora pagas3\n",
            "495\n"
          ]
        }
      ]
    },
    {
      "cell_type": "markdown",
      "source": [
        "5. Escrever um programa em Python que lê as 3 notas obtidas por ele em provas. Para cada aluno, calcular a média de aproveitamento, usando a fórmula:\n",
        " MA = (Nl + N2 + N3)\n",
        " 3\n",
        "A atribuição de conceitos obedece à tabela abaixo:\n",
        "Média de Aproveitamento\n",
        "Conceito\n",
        ">= 9.0\n",
        "A\n",
        "\n",
        ">= 7.5 e < 9.0\n",
        "B\n",
        "\n",
        ">= 6.0 e < 7.5\n",
        "C\n",
        "\n",
        ">= 4.0 e < 6.0\n",
        "D\n",
        "\n",
        "< 4.0\n",
        "E\n",
        "\n",
        "\n",
        "\n",
        "O programa deve escrever as notas, a média de aproveitamento, o conceito correspondente e a mensagem: \"APROVADO\" se o conceito for A, B, ou C e \"REPROVADO\" se conceito for D ou E.\n"
      ],
      "metadata": {
        "id": "4YHWzWC4tEYE"
      }
    },
    {
      "cell_type": "code",
      "source": [
        "m = 0\n",
        "for i in range(3):\n",
        "  while True:\n",
        "    x = float(input(\"Insira sua nota: \"))\n",
        "    if x <=10 and x >=0:\n",
        "      m += x\n",
        "      print(\"Nota aprovada\")\n",
        "      break\n",
        "    print(\"Insira uma nota entre 0 e 10\")\n",
        "\n",
        "m= m/3\n",
        "\n",
        "if m>=9:\n",
        "  print('Aprovado, com conceito A e nota',m)\n",
        "elif m>=7.5:\n",
        "  print('Aprovado, com conceito B e nota',m)\n",
        "elif m>=6:\n",
        "  print('Aprovado, com conceito C e nota',m)\n",
        "elif m>=4:\n",
        "  print('Reprovado, com conceito D e nota',m)\n",
        "else:\n",
        "  print('Reprovado, com conceito E e nota',m)"
      ],
      "metadata": {
        "colab": {
          "base_uri": "https://localhost:8080/"
        },
        "id": "3o3O0MfNtG59",
        "outputId": "a4cb336e-246f-49f3-8fc5-fb79c866ede7"
      },
      "execution_count": null,
      "outputs": [
        {
          "output_type": "stream",
          "name": "stdout",
          "text": [
            "Insira sua nota: 5\n",
            "Nota aprovada\n",
            "Insira sua nota: 9\n",
            "Nota aprovada\n",
            "Insira sua nota: 10\n",
            "Nota aprovada\n",
            "Aprovado, com conceito B e nota 8.0\n"
          ]
        }
      ]
    },
    {
      "cell_type": "markdown",
      "source": [
        "6. Faça um programa em Python que leia a altura e o sexo de uma pessoa, calcule seu peso ideal, utilizando as seguintes fórmulas:\n",
        "\n",
        "● homens : (72,7*altura) –58\n",
        "\n",
        "● mulheres : (62,1*altura) – 44,7\n"
      ],
      "metadata": {
        "id": "ewowazvzs5uJ"
      }
    },
    {
      "cell_type": "code",
      "source": [
        "altura = float(input(\"Insira sua altura: \"))\n",
        "\n",
        "while True:\n",
        "  sexo = input(\"Insira seu sexo (M/F): \")\n",
        "  if sexo == \"M\":\n",
        "    print(\"Seu peso ideal é:\",(72,7*altura) –58)\n",
        "    break\n",
        "  elif sexo == \"F\"\n",
        "    print(\"Seu peso ideal é:\",(62,1*altura) – 44,7)\n",
        "    break\n",
        "  else:\n",
        "    print(\"Insira apenas 'M', para masculino, ou 'F', para feminino\")"
      ],
      "metadata": {
        "id": "cUz9LCncuIwl"
      },
      "execution_count": null,
      "outputs": []
    },
    {
      "cell_type": "markdown",
      "source": [
        "7. Escrever um programa em Python que lê os seguintes dados de um funcionário: o número de horas trabalhadas e o valor que recebe por hora. Calcular e escrever, o salário bruto (SB) e o valor de desconto do Imposto de Renda (IR) como segue:\n",
        "\n",
        "● Se SB > 3.500,00 então IR = 15% do SB\n",
        "\n",
        "● Se SB > 1.500,00 e SB <= 3.500,00 então IR = 8% do SB\n",
        "\n",
        "● Se SB <= 1.500,00 então IR = 0.\n"
      ],
      "metadata": {
        "id": "AQj3FIeFuLQB"
      }
    },
    {
      "cell_type": "code",
      "source": [
        "vh = float(input(\"Insira quanto você recebe por hora: \"))\n",
        "h = float(input(\"Insira quantas horas você trabalhou: \"))\n",
        "\n",
        "SB = vh*h\n",
        "if SB > 3500:\n",
        "  print(\"Seu salario bruto é R$\",SB,\", com imposto de renda de R$\",SB*0.15)\n",
        "elif SB > 1500:\n",
        "  print(\"Seu salario bruto é R$\",SB,\", com imposto de renda de R$\",SB*0.08)\n",
        "else:\n",
        "  print(\"Seu salario bruto é R$\",SB,\", com imposto de renda de R$0,00\")\n"
      ],
      "metadata": {
        "colab": {
          "base_uri": "https://localhost:8080/"
        },
        "id": "dXSgMT52uK6x",
        "outputId": "dadb886c-1e1f-46af-a05e-f61bbea5e7ea"
      },
      "execution_count": null,
      "outputs": [
        {
          "output_type": "stream",
          "name": "stdout",
          "text": [
            "Insira quanto você recebe por hora: 120\n",
            "Insira quantas horas você trabalhou: 5\n",
            "Seu salario bruto é R$ 600.0 , com imposto de renda de R$0,00\n"
          ]
        }
      ]
    }
  ]
}